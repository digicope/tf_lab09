{
 "cells": [
  {
   "cell_type": "code",
   "execution_count": 1,
   "id": "72a22457-5cd6-47fb-9305-e0e6bb935830",
   "metadata": {},
   "outputs": [
    {
     "data": {
      "text/plain": [
       "'2.17.0'"
      ]
     },
     "execution_count": 1,
     "metadata": {},
     "output_type": "execute_result"
    }
   ],
   "source": [
    "# mnist_cnn\n",
    "# MNIST and Convolutional Neural Network\n",
    "# L1,L2 : conv2d + relu + max_pool \n",
    "# L3 : FC(Fully Connected Layer)\n",
    "\n",
    "import tensorflow as tf\n",
    "import numpy as np\n",
    "import matplotlib.pyplot as plt\n",
    "tf.random.set_seed(5)\n",
    "tf.__version__"
   ]
  },
  {
   "cell_type": "code",
   "execution_count": 2,
   "id": "150bccbe-ad22-489f-b15c-8550d7fdca0f",
   "metadata": {},
   "outputs": [
    {
     "name": "stdout",
     "output_type": "stream",
     "text": [
      "(60000, 28, 28)\n",
      "(60000,)\n",
      "(10000, 28, 28)\n",
      "(10000,)\n"
     ]
    }
   ],
   "source": [
    "# MNSIT 데이터 가져오기\n",
    "mnist = tf.keras.datasets.mnist \n",
    "(x_train,y_train),(x_test,y_test) = mnist.load_data()\n",
    "print(x_train.shape)\n",
    "print(y_train.shape)\n",
    "print(x_test.shape)\n",
    "print(y_test.shape)"
   ]
  },
  {
   "cell_type": "code",
   "execution_count": 3,
   "id": "26e94e6e-43d7-41a0-a8d4-3edfc9237ab0",
   "metadata": {},
   "outputs": [
    {
     "name": "stdout",
     "output_type": "stream",
     "text": [
      "(60000, 10)\n"
     ]
    }
   ],
   "source": [
    "# one-hot 인코딩\n",
    "nb_classes = 10  # 분류 class의 갯수(0~9)\n",
    "\n",
    "Y_one_hot = tf.one_hot(y_train,nb_classes)   \n",
    "print(Y_one_hot.shape)                     # (60000, 10)"
   ]
  },
  {
   "cell_type": "code",
   "execution_count": 4,
   "id": "6354267c-e619-466f-8b72-bc9fa3f6f351",
   "metadata": {},
   "outputs": [
    {
     "name": "stdout",
     "output_type": "stream",
     "text": [
      "(60000, 28, 28) <dtype: 'float32'>\n",
      "(10000, 28, 28) <dtype: 'float32'>\n"
     ]
    }
   ],
   "source": [
    "# X값의 타입을 float형으로 변환\n",
    "x_train = tf.cast(x_train,dtype=tf.float32)\n",
    "print(x_train.shape,x_train.dtype)\n",
    "\n",
    "x_test = tf.cast(x_test,dtype=tf.float32)\n",
    "print(x_test.shape,x_test.dtype)"
   ]
  },
  {
   "cell_type": "code",
   "execution_count": 5,
   "id": "ccdd25d8-6d8c-4561-b369-1e53d9201ce5",
   "metadata": {},
   "outputs": [
    {
     "name": "stdout",
     "output_type": "stream",
     "text": [
      "(60000, 28, 28, 1)\n"
     ]
    }
   ],
   "source": [
    "# X값의 shape을 4차원으로 변환 : (N,H,W,C)\n",
    "X_img = tf.reshape(x_train,[-1,28,28,1])\n",
    "print(X_img.shape)  # (60000, 28, 28, 1)"
   ]
  },
  {
   "cell_type": "code",
   "execution_count": 6,
   "id": "daec8006-389f-41a3-a74f-eeea075d9a02",
   "metadata": {},
   "outputs": [],
   "source": [
    "# Layer 1 : conv2d - relu - max_pool\n",
    "# (?, 28, 28, 1) --> (?, 14, 14, 32)\n",
    "\n",
    "# <1> conv2d\n",
    "# L1 input image shape : (?, 28, 28, 1)\n",
    "# filter : (3,3,1,32), 필터 32개\n",
    "# strides : (1,1,1,1), padding='SAME'\n",
    "# 출력 이미지 : (28+2 - 3)/1 + 1 = 28\n",
    "# (?, 28, 28, 1) --> (?, 28, 28, 32)\n",
    "W1 = tf.Variable(tf.random.normal([3,3,1,32]), name='weight1')\n",
    "\n",
    "def L1_conv2d(X):\n",
    "    return tf.nn.conv2d(X,W1,strides=[1,1,1,1],padding='SAME')\n",
    "\n",
    "# <2> relu\n",
    "def L1_relu(X):\n",
    "    return tf.nn.relu(L1_conv2d(X))     # shape 변화가 없다\n",
    "\n",
    "# <3> max_pool\n",
    "# input image : (?, 28, 28, 32)\n",
    "# ksize : (1,2,2,1), strides : (1,2,2,1), padding='SAME'\n",
    "# 출력 이미지 : (28+1 - 2)/2 + 1 = 14\n",
    "# (?, 28, 28, 32) -->  (?, 14, 14, 32)\n",
    "def L1_MaxPool(X):\n",
    "    return tf.nn.max_pool(L1_relu(X),ksize=[1,2,2,1],strides=[1,2,2,1],padding='SAME')"
   ]
  },
  {
   "cell_type": "code",
   "execution_count": 7,
   "id": "0be13e11-1ebe-468e-9855-5859b787f055",
   "metadata": {},
   "outputs": [],
   "source": [
    "# L1_MaxPool(X_img[:1])  # 출력 (?, 14, 14, 32)"
   ]
  },
  {
   "cell_type": "code",
   "execution_count": 8,
   "id": "6a499c06-3615-48b4-a676-37afa425cd82",
   "metadata": {},
   "outputs": [],
   "source": [
    "# Layer 2 : conv2d - relu - max_pool\n",
    "#  (?, 14, 14, 32) --> (?, 14, 14, 32)\n",
    "\n",
    "# <1> conv2d\n",
    "# L1 input image shape :  (?, 14, 14, 32)\n",
    "# filter : (3,3,1,64), 필터 64개\n",
    "# strides : (1,1,1,1), padding='SAME'\n",
    "# 출력 이미지 : (14+2 - 3)/1 + 1 = 14\n",
    "# (?, 14, 14, 32) --> (?, 14, 14, 64)\n",
    "W2 = tf.Variable(tf.random.normal([3,3,1,64]), name='weight2')\n",
    "\n",
    "def L2_conv2d(X):\n",
    "    return tf.nn.conv2d(L1_MaxPool(X),W2,strides=[1,1,1,1],padding='SAME')\n",
    "\n",
    "# <2> relu\n",
    "def L2_relu(X):\n",
    "    return tf.nn.relu(L2_conv2d(X))     # shape 변화가 없다\n",
    "\n",
    "# <3> max_pool\n",
    "# input image : (?, 14, 14, 64)\n",
    "# ksize : (1,2,2,1), strides : (1,2,2,1), padding='SAME'\n",
    "# 출력 이미지 : (14+1 - 2)/2 + 1 = 7\n",
    "# (?, 14, 14, 64) -->  (?, 7, 7, 64)\n",
    "def L2_MaxPool(X):\n",
    "    return tf.nn.max_pool(L2_relu(X),ksize=[1,2,2,1],strides=[1,2,2,1],padding='SAME')\n",
    "\n",
    "# <4> flatten layer : : 다차원 배열을 2차원으로 변환하여 FC layer에 전달한다\n",
    "def L2_flat(X):\n",
    "    return tf.reshape(L2_MaxPool(X),[-1,7*7*64])"
   ]
  },
  {
   "cell_type": "code",
   "execution_count": 9,
   "id": "094f2f37-2111-4f6e-88c2-fa3f6f9de2f0",
   "metadata": {},
   "outputs": [],
   "source": [
    "# L2_MaxPool(X_img[:1])  # 출력 (?, 7, 7, 64)\n",
    "# L2_flat(X_img[:1])  # 출력 (?, 7*7*64)  = (?, 3136)"
   ]
  },
  {
   "cell_type": "code",
   "execution_count": 10,
   "id": "9297d458-7e01-4a76-acec-36b2cec10d5a",
   "metadata": {},
   "outputs": [],
   "source": [
    "# Layer 3 : FC (Fully Connected Layer)\n",
    "# (?, 7*7*64) * (7*67*64,10) = (?,10)\n",
    "W3 = tf.Variable(tf.random.normal([7*7*64,nb_classes]),name='weight3')\n",
    "b = tf.Variable(tf.random.normal([nb_classes]),name='bias')    "
   ]
  },
  {
   "cell_type": "code",
   "execution_count": 11,
   "id": "79394681-5473-4132-8087-21400495eb4f",
   "metadata": {},
   "outputs": [],
   "source": [
    "# 예측 함수(hypothesis) : H(X) = softmax(X*W + b)\n",
    "def logits(X):\n",
    "    return tf.matmul(L2_flat(X),W3) + b\n",
    "    \n",
    "def hypothesis(X):\n",
    "    return tf.nn.softmax(logits(X))  "
   ]
  },
  {
   "cell_type": "code",
   "execution_count": 12,
   "id": "dca41677-97f9-4669-85b7-a8a33acef096",
   "metadata": {},
   "outputs": [],
   "source": [
    "# 비용 함수  : tf.nn.softmax_cross_entropy_with_logits() 함수 사용\n",
    "# def cost_func():\n",
    "#     cost_i = tf.nn.softmax_cross_entropy_with_logits(logits = logits(X_img),\n",
    "#                                              labels = Y_one_hot)\n",
    "#     cost =  tf.reduce_mean(cost_i)\n",
    "#     return cost"
   ]
  },
  {
   "cell_type": "code",
   "execution_count": 13,
   "id": "58ff932e-24d1-49b1-928c-ce9b4a30d4ce",
   "metadata": {},
   "outputs": [
    {
     "name": "stdout",
     "output_type": "stream",
     "text": [
      "WARNING:tensorflow:From C:\\Users\\storm\\AppData\\Local\\Temp\\ipykernel_5112\\4063420145.py:8: The name tf.train.AdamOptimizer is deprecated. Please use tf.compat.v1.train.AdamOptimizer instead.\n",
      "\n",
      "****** Start Learning!!\n",
      "Epoch: 0001 cost: 6351.685648193\n",
      "Epoch: 0002 cost: 656.206498947\n",
      "Epoch: 0003 cost: 368.835160303\n",
      "Epoch: 0004 cost: 254.495237164\n",
      "Epoch: 0005 cost: 188.864557824\n",
      "Epoch: 0006 cost: 152.123358837\n",
      "Epoch: 0007 cost: 124.895512800\n",
      "Epoch: 0008 cost: 106.864025577\n",
      "Epoch: 0009 cost: 92.738631496\n",
      "Epoch: 0010 cost: 79.038738999\n",
      "Epoch: 0011 cost: 69.791744175\n",
      "Epoch: 0012 cost: 60.383924556\n",
      "Epoch: 0013 cost: 53.556837530\n",
      "Epoch: 0014 cost: 47.478008835\n",
      "Epoch: 0015 cost: 43.876828144\n",
      "****** Learning Finished!!\n"
     ]
    }
   ],
   "source": [
    "# batch 사이즈로 나누어 학습, 효율적 이며 학습 시간 단축\n",
    "\n",
    "training_epoch = 15  # 50\n",
    "batch_size = 600     # 32\n",
    "\n",
    "# 경사 하강법\n",
    "# learning_rate(학습율)을 0.01 로 설정하여 optimizer객체를 생성\n",
    "optimizer = tf.compat.v1.train.AdamOptimizer(learning_rate=0.01)\n",
    "\n",
    "# 학습 시작  : mini batch 학습\n",
    "print('****** Start Learning!!')\n",
    "\n",
    "for epoch in range(training_epoch):  # 15회\n",
    "\n",
    "    avg_cost = 0\n",
    "    \n",
    "    total_batch = int(x_train.shape[0]/batch_size)  # 60000/600=100\n",
    "    for k in range(total_batch):\n",
    "        batch_xs = x_train[0 + k*batch_size:batch_size  + k*batch_size]    # 600개의 X 데이터\n",
    "        batch_ys = Y_one_hot[0 + k*batch_size:batch_size  + k*batch_size]  # 600개의 Y 데이터\n",
    "\n",
    "        # X값의 shape을 4차원으로 변환\n",
    "        X_img = tf.reshape(batch_xs,[-1,28,28,1])\n",
    "\n",
    "        # 비용 함수  \n",
    "        def cost_func_batch():\n",
    "            cost_i = tf.nn.softmax_cross_entropy_with_logits(logits = logits(X_img),\n",
    "                                                     labels = batch_ys)\n",
    "            cost =  tf.reduce_mean(cost_i)\n",
    "            return cost\n",
    "\n",
    "        # cost를 minimize 한다\n",
    "        optimizer.minimize(cost_func_batch,var_list=[W1,W2,W3,b])\n",
    "        avg_cost += cost_func_batch().numpy()/total_batch\n",
    "        \n",
    "    print('Epoch:','%04d'%(epoch + 1),'cost:','{:.9f}'.format(avg_cost))\n",
    "    \n",
    "print('****** Learning Finished!!')        "
   ]
  },
  {
   "cell_type": "code",
   "execution_count": 16,
   "id": "5507822a-47e9-4c81-a6b6-347aa1074f54",
   "metadata": {},
   "outputs": [
    {
     "name": "stdout",
     "output_type": "stream",
     "text": [
      "(10000, 28, 28, 1)\n",
      "(10000, 10)\n",
      "Accuracy: 0.9741\n"
     ]
    }
   ],
   "source": [
    "# 정확도 측정 : accuracy computation\n",
    "\n",
    "# X값의 shape을 4차원으로 변환 : (N,H,W,C)\n",
    "X_img = tf.reshape(x_test,[-1,28,28,1])\n",
    "print(X_img.shape)  # (10000, 28, 28, 1)\n",
    "\n",
    "# one-hot 인코딩\n",
    "Y_one_hot = tf.one_hot(y_test,nb_classes)   \n",
    "print(Y_one_hot.shape)                     # (10000, 10)\n",
    "\n",
    "# tf.argmax() : 값이 가장 큰 요소의 인덱스 값을 반환\n",
    "def predict(X):\n",
    "    return tf.argmax(hypothesis(X),axis=1)\n",
    "    \n",
    "correct_predict = tf.equal(predict(X_img),tf.argmax(Y_one_hot,1))\n",
    "accuracy = tf.reduce_mean(tf.cast(correct_predict, dtype = tf.float32))\n",
    "print(\"Accuracy:\",accuracy.numpy())"
   ]
  },
  {
   "cell_type": "code",
   "execution_count": 21,
   "id": "b5ab5a9e-6301-4fcf-bc7b-5893171eea3b",
   "metadata": {},
   "outputs": [
    {
     "name": "stdout",
     "output_type": "stream",
     "text": [
      "***** Predict\n",
      "[7 2 1 0 4 1 4 9 5 9] [7 2 1 ... 4 5 6]\n"
     ]
    }
   ],
   "source": [
    "#예측 \n",
    "print('***** Predict')\n",
    "pred = predict(X_img[:10]).numpy()\n",
    "print(pred,y_test)"
   ]
  },
  {
   "cell_type": "code",
   "execution_count": null,
   "id": "fa9a4613-b15a-47ee-a3e0-1d90c29db1f7",
   "metadata": {},
   "outputs": [],
   "source": [
    "# 정확도 비교\n",
    "\n",
    "# [1] softmax 사용\n",
    "# 1 layers              -------> Accuracy  : 0.8871\n",
    "# 4 layers  sigmoid     -------> Accuracy  : 0.9033\n",
    "# 4 layers  relu        -------> Accuracy  : 0.9534  \n",
    "\n",
    "# [2] CNN 사용\n",
    "# 3 layers              -------> Accuracy  : 0.9764 (epoch=15) ,GPU\n",
    "# 3 layers              -------> Accuracy  : 0.9804 (epoch=50) ,GPU"
   ]
  }
 ],
 "metadata": {
  "kernelspec": {
   "display_name": "Python 3 (ipykernel)",
   "language": "python",
   "name": "python3"
  },
  "language_info": {
   "codemirror_mode": {
    "name": "ipython",
    "version": 3
   },
   "file_extension": ".py",
   "mimetype": "text/x-python",
   "name": "python",
   "nbconvert_exporter": "python",
   "pygments_lexer": "ipython3",
   "version": "3.10.12"
  }
 },
 "nbformat": 4,
 "nbformat_minor": 5
}
