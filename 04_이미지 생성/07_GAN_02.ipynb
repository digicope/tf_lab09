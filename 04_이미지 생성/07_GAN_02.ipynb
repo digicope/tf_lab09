{
  "cells": [
    {
      "cell_type": "markdown",
      "id": "8aca895a",
      "metadata": {
        "id": "8aca895a"
      },
      "source": [
        "## GAN\n",
        "- Generative Adversarial Network\n",
        "- 적대적으로 경쟁해서 생성하는 네트워크 (적대적 생성망)\n",
        "### generative model\n",
        " - 각 데이터의 확률분포를 추정하고 분포를 기반으로한 새로운 데이터 분류/생성\n",
        "  > - autoencoder 고차원 데이터를 저차원으로 축소한것이 고유의 특성을 찾았어서 생성에 활용\n",
        "\n",
        "### Generative Adversarial Network\n",
        "- 실제처럼 만들고 구분할 수 있도록 서로 **적대적 경쟁(Adversarial)시키면서 발전**\n",
        "\n",
        "### 학습 테크닉 정리\n",
        "GAN 학습이 힘듦\n",
        "\n",
        "- overfitting 막는 방법\n",
        "  - 데이터 확보\n",
        "\n",
        "  - 데이터 전처리\n",
        "    - normalization : 0 ~ 1, -1 ~ 1\n",
        "  - 모델 단순화\n",
        "    - feature 수 줄이기:\n",
        "      - feature selection\n",
        "        1. filter\n",
        "        2. wrapper\n",
        "        3. embeded\n",
        "      - dimensionality reduction\n",
        "    - regularizer (weight decay)\n",
        "  - ensemble\n",
        "    - dropout\n",
        "  - early stopping\n",
        "\n",
        "- **underfitting** 막는 방법\n",
        "  - Normalization\n",
        "    - BN\n",
        "    - layer\n",
        "    - instance\n",
        "    - weight\n",
        "  - ReLU, Leacky ReLU\n",
        "  - initializer\n",
        "  - gradient clipping\n",
        "  - optimizer\n",
        "  - learning rate decay\n",
        "\n",
        "\n",
        "### DCGAN\n",
        "- Deep Convolutional GAN\n",
        "- simple - deep -convolution\n",
        "\n",
        "- gradientTape\n",
        "    - 모델 나누어서\n",
        "-  Leacky ReLU\n",
        "    intro to DL (MIT vs Stanford)\n",
        "    \n",
        "TensorFlow DCGAN 참고: https://www.tensorflow.org/tutorials/generative/dcgan?hl=ko"
      ]
    },
    {
      "cell_type": "code",
      "execution_count": 1,
      "id": "ab39664f",
      "metadata": {
        "id": "ab39664f"
      },
      "outputs": [],
      "source": [
        "import tensorflow as tf"
      ]
    },
    {
      "cell_type": "code",
      "execution_count": 2,
      "id": "9889f2de",
      "metadata": {
        "colab": {
          "base_uri": "https://localhost:8080/"
        },
        "id": "9889f2de",
        "outputId": "aecb7c0d-64bb-42c6-e4b5-924d29ccf3c3"
      },
      "outputs": [
        {
          "output_type": "stream",
          "name": "stdout",
          "text": [
            "Downloading data from https://storage.googleapis.com/tensorflow/tf-keras-datasets/mnist.npz\n",
            "\u001b[1m11490434/11490434\u001b[0m \u001b[32m━━━━━━━━━━━━━━━━━━━━\u001b[0m\u001b[37m\u001b[0m \u001b[1m0s\u001b[0m 0us/step\n"
          ]
        }
      ],
      "source": [
        "(X_train, y_train),(_,_) =tf.keras.datasets.mnist.load_data()"
      ]
    },
    {
      "cell_type": "code",
      "execution_count": 3,
      "id": "8e7a21ff",
      "metadata": {
        "id": "8e7a21ff"
      },
      "outputs": [],
      "source": [
        "X_train = X_train.reshape(-1,28,28,1)"
      ]
    },
    {
      "cell_type": "markdown",
      "id": "9b10bbe9",
      "metadata": {
        "id": "9b10bbe9"
      },
      "source": [
        "데이터 전처리\n",
        "- 정규화 : 0 ~ 1, -1 ~ 1 ( zero-centered)\n",
        "    - [-1,1] 정규화"
      ]
    },
    {
      "cell_type": "code",
      "execution_count": 4,
      "id": "dce11749",
      "metadata": {
        "id": "dce11749"
      },
      "outputs": [],
      "source": [
        "X_train = (X_train - 255/2)/(255/2)"
      ]
    },
    {
      "cell_type": "code",
      "execution_count": 5,
      "id": "327f1c61",
      "metadata": {
        "id": "327f1c61"
      },
      "outputs": [],
      "source": [
        "BATCH_SIZE = 256\n",
        "train = tf.data.Dataset.from_tensor_slices(X_train).batch(BATCH_SIZE)"
      ]
    },
    {
      "cell_type": "markdown",
      "id": "e0362efe",
      "metadata": {
        "id": "e0362efe"
      },
      "source": [
        "모델을 generator , discriminator나누어서 모델 만듦\n",
        "### Generator\n",
        "- BatchNormalization\n",
        "- LeakyReLU\n",
        "- Conv2DTranspose\n",
        "- use_bias=False\n",
        "- 갯수 맞추기위해서 padding='same'"
      ]
    },
    {
      "cell_type": "markdown",
      "id": "791ff8fc",
      "metadata": {
        "id": "791ff8fc"
      },
      "source": [
        "### LeakyReLU\n",
        "  f(x) = alpha * x if x < 0  \n",
        "  f(x) = x if x >= 0  \n",
        "  https://www.tensorflow.org/api_docs/python/tf/keras/layers/LeakyReLU"
      ]
    },
    {
      "cell_type": "code",
      "source": [
        "import numpy as np\n",
        "leaky_relu_layer = tf.keras.layers.LeakyReLU(negative_slope=0.5)\n",
        "input = np.array([-10, -5, 0.0, 5, 10])\n",
        "result = leaky_relu_layer(input)\n",
        "print(list(result.numpy()))"
      ],
      "metadata": {
        "colab": {
          "base_uri": "https://localhost:8080/"
        },
        "id": "BcD26MyU4E1A",
        "outputId": "b46ef5cd-3f35-4270-ce5b-eaaf366a72b1"
      },
      "id": "BcD26MyU4E1A",
      "execution_count": 11,
      "outputs": [
        {
          "output_type": "stream",
          "name": "stdout",
          "text": [
            "[-5.0, -2.5, 0.0, 5.0, 10.0]\n"
          ]
        }
      ]
    },
    {
      "cell_type": "code",
      "execution_count": 12,
      "id": "5d4dfdb4",
      "metadata": {
        "id": "5d4dfdb4"
      },
      "outputs": [],
      "source": [
        "# 구버전 소스라서 오류남\n",
        "# layer = tf.keras.layers.LeakyReLU()  # 기본값 alpah = 0.3\n",
        "# output = layer([-3.0, -1.0, 0.0, 2.0])\n",
        "# print(list(output.numpy()))\n",
        "\n",
        "# layer = taf.keras.layers.LeakyReLU(alpha=0.1)\n",
        "# output = layer([-3.0, -1.0, 0.0, 2.0])\n",
        "# print(list(output.numpy()))"
      ]
    },
    {
      "cell_type": "code",
      "execution_count": 13,
      "id": "7e9ffc8a",
      "metadata": {
        "id": "7e9ffc8a"
      },
      "outputs": [],
      "source": [
        "NOISE_DIM=100\n",
        "\n",
        "def make_generative_model(): #함수로 재활용\n",
        "    generative_model= tf.keras.models.Sequential([ #첫번째 convolution갯수 맞춰야함\n",
        "\n",
        "        tf.keras.layers.Dense(7*7*256,input_shape=(NOISE_DIM,),use_bias=False),\n",
        "        tf.keras.layers.BatchNormalization(),\n",
        "        tf.keras.layers.LeakyReLU(),\n",
        "\n",
        "        tf.keras.layers.Reshape((7, 7, 256)),#convolution형태\n",
        "\n",
        "        tf.keras.layers.Conv2DTranspose(128,(5,5),padding='same',use_bias=False) ,\n",
        "        tf.keras.layers.BatchNormalization(),\n",
        "        tf.keras.layers.LeakyReLU(),\n",
        "\n",
        "        tf.keras.layers.Conv2DTranspose(128,(5,5),padding='same', strides=2,use_bias=False) ,\n",
        "        tf.keras.layers.BatchNormalization(),\n",
        "        tf.keras.layers.LeakyReLU(),\n",
        "        #마지막 레이어 1\n",
        "        tf.keras.layers.Conv2DTranspose(1,(5,5),padding='same',strides=2,use_bias=False) , # vgg (3,3),(5,5)\n",
        "        tf.keras.layers.BatchNormalization(),\n",
        "        tf.keras.layers.LeakyReLU(),\n",
        "      ])\n",
        "    return generative_model  #28x28x1로 맞춤"
      ]
    },
    {
      "cell_type": "code",
      "execution_count": 14,
      "id": "f8d942ad",
      "metadata": {
        "colab": {
          "base_uri": "https://localhost:8080/",
          "height": 692
        },
        "id": "f8d942ad",
        "outputId": "60b9af21-f4a6-49a3-d1bb-8fb3faaed3c1"
      },
      "outputs": [
        {
          "output_type": "stream",
          "name": "stderr",
          "text": [
            "/usr/local/lib/python3.10/dist-packages/keras/src/layers/core/dense.py:87: UserWarning: Do not pass an `input_shape`/`input_dim` argument to a layer. When using Sequential models, prefer using an `Input(shape)` object as the first layer in the model instead.\n",
            "  super().__init__(activity_regularizer=activity_regularizer, **kwargs)\n"
          ]
        },
        {
          "output_type": "display_data",
          "data": {
            "text/plain": [
              "\u001b[1mModel: \"sequential\"\u001b[0m\n"
            ],
            "text/html": [
              "<pre style=\"white-space:pre;overflow-x:auto;line-height:normal;font-family:Menlo,'DejaVu Sans Mono',consolas,'Courier New',monospace\"><span style=\"font-weight: bold\">Model: \"sequential\"</span>\n",
              "</pre>\n"
            ]
          },
          "metadata": {}
        },
        {
          "output_type": "display_data",
          "data": {
            "text/plain": [
              "┏━━━━━━━━━━━━━━━━━━━━━━━━━━━━━━━━━━━━━━┳━━━━━━━━━━━━━━━━━━━━━━━━━━━━━┳━━━━━━━━━━━━━━━━━┓\n",
              "┃\u001b[1m \u001b[0m\u001b[1mLayer (type)                        \u001b[0m\u001b[1m \u001b[0m┃\u001b[1m \u001b[0m\u001b[1mOutput Shape               \u001b[0m\u001b[1m \u001b[0m┃\u001b[1m \u001b[0m\u001b[1m        Param #\u001b[0m\u001b[1m \u001b[0m┃\n",
              "┡━━━━━━━━━━━━━━━━━━━━━━━━━━━━━━━━━━━━━━╇━━━━━━━━━━━━━━━━━━━━━━━━━━━━━╇━━━━━━━━━━━━━━━━━┩\n",
              "│ dense (\u001b[38;5;33mDense\u001b[0m)                        │ (\u001b[38;5;45mNone\u001b[0m, \u001b[38;5;34m12544\u001b[0m)               │       \u001b[38;5;34m1,254,400\u001b[0m │\n",
              "├──────────────────────────────────────┼─────────────────────────────┼─────────────────┤\n",
              "│ batch_normalization                  │ (\u001b[38;5;45mNone\u001b[0m, \u001b[38;5;34m12544\u001b[0m)               │          \u001b[38;5;34m50,176\u001b[0m │\n",
              "│ (\u001b[38;5;33mBatchNormalization\u001b[0m)                 │                             │                 │\n",
              "├──────────────────────────────────────┼─────────────────────────────┼─────────────────┤\n",
              "│ leaky_re_lu_5 (\u001b[38;5;33mLeakyReLU\u001b[0m)            │ (\u001b[38;5;45mNone\u001b[0m, \u001b[38;5;34m12544\u001b[0m)               │               \u001b[38;5;34m0\u001b[0m │\n",
              "├──────────────────────────────────────┼─────────────────────────────┼─────────────────┤\n",
              "│ reshape (\u001b[38;5;33mReshape\u001b[0m)                    │ (\u001b[38;5;45mNone\u001b[0m, \u001b[38;5;34m7\u001b[0m, \u001b[38;5;34m7\u001b[0m, \u001b[38;5;34m256\u001b[0m)           │               \u001b[38;5;34m0\u001b[0m │\n",
              "├──────────────────────────────────────┼─────────────────────────────┼─────────────────┤\n",
              "│ conv2d_transpose (\u001b[38;5;33mConv2DTranspose\u001b[0m)   │ (\u001b[38;5;45mNone\u001b[0m, \u001b[38;5;34m7\u001b[0m, \u001b[38;5;34m7\u001b[0m, \u001b[38;5;34m128\u001b[0m)           │         \u001b[38;5;34m819,200\u001b[0m │\n",
              "├──────────────────────────────────────┼─────────────────────────────┼─────────────────┤\n",
              "│ batch_normalization_1                │ (\u001b[38;5;45mNone\u001b[0m, \u001b[38;5;34m7\u001b[0m, \u001b[38;5;34m7\u001b[0m, \u001b[38;5;34m128\u001b[0m)           │             \u001b[38;5;34m512\u001b[0m │\n",
              "│ (\u001b[38;5;33mBatchNormalization\u001b[0m)                 │                             │                 │\n",
              "├──────────────────────────────────────┼─────────────────────────────┼─────────────────┤\n",
              "│ leaky_re_lu_6 (\u001b[38;5;33mLeakyReLU\u001b[0m)            │ (\u001b[38;5;45mNone\u001b[0m, \u001b[38;5;34m7\u001b[0m, \u001b[38;5;34m7\u001b[0m, \u001b[38;5;34m128\u001b[0m)           │               \u001b[38;5;34m0\u001b[0m │\n",
              "├──────────────────────────────────────┼─────────────────────────────┼─────────────────┤\n",
              "│ conv2d_transpose_1 (\u001b[38;5;33mConv2DTranspose\u001b[0m) │ (\u001b[38;5;45mNone\u001b[0m, \u001b[38;5;34m14\u001b[0m, \u001b[38;5;34m14\u001b[0m, \u001b[38;5;34m128\u001b[0m)         │         \u001b[38;5;34m409,600\u001b[0m │\n",
              "├──────────────────────────────────────┼─────────────────────────────┼─────────────────┤\n",
              "│ batch_normalization_2                │ (\u001b[38;5;45mNone\u001b[0m, \u001b[38;5;34m14\u001b[0m, \u001b[38;5;34m14\u001b[0m, \u001b[38;5;34m128\u001b[0m)         │             \u001b[38;5;34m512\u001b[0m │\n",
              "│ (\u001b[38;5;33mBatchNormalization\u001b[0m)                 │                             │                 │\n",
              "├──────────────────────────────────────┼─────────────────────────────┼─────────────────┤\n",
              "│ leaky_re_lu_7 (\u001b[38;5;33mLeakyReLU\u001b[0m)            │ (\u001b[38;5;45mNone\u001b[0m, \u001b[38;5;34m14\u001b[0m, \u001b[38;5;34m14\u001b[0m, \u001b[38;5;34m128\u001b[0m)         │               \u001b[38;5;34m0\u001b[0m │\n",
              "├──────────────────────────────────────┼─────────────────────────────┼─────────────────┤\n",
              "│ conv2d_transpose_2 (\u001b[38;5;33mConv2DTranspose\u001b[0m) │ (\u001b[38;5;45mNone\u001b[0m, \u001b[38;5;34m28\u001b[0m, \u001b[38;5;34m28\u001b[0m, \u001b[38;5;34m1\u001b[0m)           │           \u001b[38;5;34m3,200\u001b[0m │\n",
              "├──────────────────────────────────────┼─────────────────────────────┼─────────────────┤\n",
              "│ batch_normalization_3                │ (\u001b[38;5;45mNone\u001b[0m, \u001b[38;5;34m28\u001b[0m, \u001b[38;5;34m28\u001b[0m, \u001b[38;5;34m1\u001b[0m)           │               \u001b[38;5;34m4\u001b[0m │\n",
              "│ (\u001b[38;5;33mBatchNormalization\u001b[0m)                 │                             │                 │\n",
              "├──────────────────────────────────────┼─────────────────────────────┼─────────────────┤\n",
              "│ leaky_re_lu_8 (\u001b[38;5;33mLeakyReLU\u001b[0m)            │ (\u001b[38;5;45mNone\u001b[0m, \u001b[38;5;34m28\u001b[0m, \u001b[38;5;34m28\u001b[0m, \u001b[38;5;34m1\u001b[0m)           │               \u001b[38;5;34m0\u001b[0m │\n",
              "└──────────────────────────────────────┴─────────────────────────────┴─────────────────┘\n"
            ],
            "text/html": [
              "<pre style=\"white-space:pre;overflow-x:auto;line-height:normal;font-family:Menlo,'DejaVu Sans Mono',consolas,'Courier New',monospace\">┏━━━━━━━━━━━━━━━━━━━━━━━━━━━━━━━━━━━━━━┳━━━━━━━━━━━━━━━━━━━━━━━━━━━━━┳━━━━━━━━━━━━━━━━━┓\n",
              "┃<span style=\"font-weight: bold\"> Layer (type)                         </span>┃<span style=\"font-weight: bold\"> Output Shape                </span>┃<span style=\"font-weight: bold\">         Param # </span>┃\n",
              "┡━━━━━━━━━━━━━━━━━━━━━━━━━━━━━━━━━━━━━━╇━━━━━━━━━━━━━━━━━━━━━━━━━━━━━╇━━━━━━━━━━━━━━━━━┩\n",
              "│ dense (<span style=\"color: #0087ff; text-decoration-color: #0087ff\">Dense</span>)                        │ (<span style=\"color: #00d7ff; text-decoration-color: #00d7ff\">None</span>, <span style=\"color: #00af00; text-decoration-color: #00af00\">12544</span>)               │       <span style=\"color: #00af00; text-decoration-color: #00af00\">1,254,400</span> │\n",
              "├──────────────────────────────────────┼─────────────────────────────┼─────────────────┤\n",
              "│ batch_normalization                  │ (<span style=\"color: #00d7ff; text-decoration-color: #00d7ff\">None</span>, <span style=\"color: #00af00; text-decoration-color: #00af00\">12544</span>)               │          <span style=\"color: #00af00; text-decoration-color: #00af00\">50,176</span> │\n",
              "│ (<span style=\"color: #0087ff; text-decoration-color: #0087ff\">BatchNormalization</span>)                 │                             │                 │\n",
              "├──────────────────────────────────────┼─────────────────────────────┼─────────────────┤\n",
              "│ leaky_re_lu_5 (<span style=\"color: #0087ff; text-decoration-color: #0087ff\">LeakyReLU</span>)            │ (<span style=\"color: #00d7ff; text-decoration-color: #00d7ff\">None</span>, <span style=\"color: #00af00; text-decoration-color: #00af00\">12544</span>)               │               <span style=\"color: #00af00; text-decoration-color: #00af00\">0</span> │\n",
              "├──────────────────────────────────────┼─────────────────────────────┼─────────────────┤\n",
              "│ reshape (<span style=\"color: #0087ff; text-decoration-color: #0087ff\">Reshape</span>)                    │ (<span style=\"color: #00d7ff; text-decoration-color: #00d7ff\">None</span>, <span style=\"color: #00af00; text-decoration-color: #00af00\">7</span>, <span style=\"color: #00af00; text-decoration-color: #00af00\">7</span>, <span style=\"color: #00af00; text-decoration-color: #00af00\">256</span>)           │               <span style=\"color: #00af00; text-decoration-color: #00af00\">0</span> │\n",
              "├──────────────────────────────────────┼─────────────────────────────┼─────────────────┤\n",
              "│ conv2d_transpose (<span style=\"color: #0087ff; text-decoration-color: #0087ff\">Conv2DTranspose</span>)   │ (<span style=\"color: #00d7ff; text-decoration-color: #00d7ff\">None</span>, <span style=\"color: #00af00; text-decoration-color: #00af00\">7</span>, <span style=\"color: #00af00; text-decoration-color: #00af00\">7</span>, <span style=\"color: #00af00; text-decoration-color: #00af00\">128</span>)           │         <span style=\"color: #00af00; text-decoration-color: #00af00\">819,200</span> │\n",
              "├──────────────────────────────────────┼─────────────────────────────┼─────────────────┤\n",
              "│ batch_normalization_1                │ (<span style=\"color: #00d7ff; text-decoration-color: #00d7ff\">None</span>, <span style=\"color: #00af00; text-decoration-color: #00af00\">7</span>, <span style=\"color: #00af00; text-decoration-color: #00af00\">7</span>, <span style=\"color: #00af00; text-decoration-color: #00af00\">128</span>)           │             <span style=\"color: #00af00; text-decoration-color: #00af00\">512</span> │\n",
              "│ (<span style=\"color: #0087ff; text-decoration-color: #0087ff\">BatchNormalization</span>)                 │                             │                 │\n",
              "├──────────────────────────────────────┼─────────────────────────────┼─────────────────┤\n",
              "│ leaky_re_lu_6 (<span style=\"color: #0087ff; text-decoration-color: #0087ff\">LeakyReLU</span>)            │ (<span style=\"color: #00d7ff; text-decoration-color: #00d7ff\">None</span>, <span style=\"color: #00af00; text-decoration-color: #00af00\">7</span>, <span style=\"color: #00af00; text-decoration-color: #00af00\">7</span>, <span style=\"color: #00af00; text-decoration-color: #00af00\">128</span>)           │               <span style=\"color: #00af00; text-decoration-color: #00af00\">0</span> │\n",
              "├──────────────────────────────────────┼─────────────────────────────┼─────────────────┤\n",
              "│ conv2d_transpose_1 (<span style=\"color: #0087ff; text-decoration-color: #0087ff\">Conv2DTranspose</span>) │ (<span style=\"color: #00d7ff; text-decoration-color: #00d7ff\">None</span>, <span style=\"color: #00af00; text-decoration-color: #00af00\">14</span>, <span style=\"color: #00af00; text-decoration-color: #00af00\">14</span>, <span style=\"color: #00af00; text-decoration-color: #00af00\">128</span>)         │         <span style=\"color: #00af00; text-decoration-color: #00af00\">409,600</span> │\n",
              "├──────────────────────────────────────┼─────────────────────────────┼─────────────────┤\n",
              "│ batch_normalization_2                │ (<span style=\"color: #00d7ff; text-decoration-color: #00d7ff\">None</span>, <span style=\"color: #00af00; text-decoration-color: #00af00\">14</span>, <span style=\"color: #00af00; text-decoration-color: #00af00\">14</span>, <span style=\"color: #00af00; text-decoration-color: #00af00\">128</span>)         │             <span style=\"color: #00af00; text-decoration-color: #00af00\">512</span> │\n",
              "│ (<span style=\"color: #0087ff; text-decoration-color: #0087ff\">BatchNormalization</span>)                 │                             │                 │\n",
              "├──────────────────────────────────────┼─────────────────────────────┼─────────────────┤\n",
              "│ leaky_re_lu_7 (<span style=\"color: #0087ff; text-decoration-color: #0087ff\">LeakyReLU</span>)            │ (<span style=\"color: #00d7ff; text-decoration-color: #00d7ff\">None</span>, <span style=\"color: #00af00; text-decoration-color: #00af00\">14</span>, <span style=\"color: #00af00; text-decoration-color: #00af00\">14</span>, <span style=\"color: #00af00; text-decoration-color: #00af00\">128</span>)         │               <span style=\"color: #00af00; text-decoration-color: #00af00\">0</span> │\n",
              "├──────────────────────────────────────┼─────────────────────────────┼─────────────────┤\n",
              "│ conv2d_transpose_2 (<span style=\"color: #0087ff; text-decoration-color: #0087ff\">Conv2DTranspose</span>) │ (<span style=\"color: #00d7ff; text-decoration-color: #00d7ff\">None</span>, <span style=\"color: #00af00; text-decoration-color: #00af00\">28</span>, <span style=\"color: #00af00; text-decoration-color: #00af00\">28</span>, <span style=\"color: #00af00; text-decoration-color: #00af00\">1</span>)           │           <span style=\"color: #00af00; text-decoration-color: #00af00\">3,200</span> │\n",
              "├──────────────────────────────────────┼─────────────────────────────┼─────────────────┤\n",
              "│ batch_normalization_3                │ (<span style=\"color: #00d7ff; text-decoration-color: #00d7ff\">None</span>, <span style=\"color: #00af00; text-decoration-color: #00af00\">28</span>, <span style=\"color: #00af00; text-decoration-color: #00af00\">28</span>, <span style=\"color: #00af00; text-decoration-color: #00af00\">1</span>)           │               <span style=\"color: #00af00; text-decoration-color: #00af00\">4</span> │\n",
              "│ (<span style=\"color: #0087ff; text-decoration-color: #0087ff\">BatchNormalization</span>)                 │                             │                 │\n",
              "├──────────────────────────────────────┼─────────────────────────────┼─────────────────┤\n",
              "│ leaky_re_lu_8 (<span style=\"color: #0087ff; text-decoration-color: #0087ff\">LeakyReLU</span>)            │ (<span style=\"color: #00d7ff; text-decoration-color: #00d7ff\">None</span>, <span style=\"color: #00af00; text-decoration-color: #00af00\">28</span>, <span style=\"color: #00af00; text-decoration-color: #00af00\">28</span>, <span style=\"color: #00af00; text-decoration-color: #00af00\">1</span>)           │               <span style=\"color: #00af00; text-decoration-color: #00af00\">0</span> │\n",
              "└──────────────────────────────────────┴─────────────────────────────┴─────────────────┘\n",
              "</pre>\n"
            ]
          },
          "metadata": {}
        },
        {
          "output_type": "display_data",
          "data": {
            "text/plain": [
              "\u001b[1m Total params: \u001b[0m\u001b[38;5;34m2,537,604\u001b[0m (9.68 MB)\n"
            ],
            "text/html": [
              "<pre style=\"white-space:pre;overflow-x:auto;line-height:normal;font-family:Menlo,'DejaVu Sans Mono',consolas,'Courier New',monospace\"><span style=\"font-weight: bold\"> Total params: </span><span style=\"color: #00af00; text-decoration-color: #00af00\">2,537,604</span> (9.68 MB)\n",
              "</pre>\n"
            ]
          },
          "metadata": {}
        },
        {
          "output_type": "display_data",
          "data": {
            "text/plain": [
              "\u001b[1m Trainable params: \u001b[0m\u001b[38;5;34m2,512,002\u001b[0m (9.58 MB)\n"
            ],
            "text/html": [
              "<pre style=\"white-space:pre;overflow-x:auto;line-height:normal;font-family:Menlo,'DejaVu Sans Mono',consolas,'Courier New',monospace\"><span style=\"font-weight: bold\"> Trainable params: </span><span style=\"color: #00af00; text-decoration-color: #00af00\">2,512,002</span> (9.58 MB)\n",
              "</pre>\n"
            ]
          },
          "metadata": {}
        },
        {
          "output_type": "display_data",
          "data": {
            "text/plain": [
              "\u001b[1m Non-trainable params: \u001b[0m\u001b[38;5;34m25,602\u001b[0m (100.01 KB)\n"
            ],
            "text/html": [
              "<pre style=\"white-space:pre;overflow-x:auto;line-height:normal;font-family:Menlo,'DejaVu Sans Mono',consolas,'Courier New',monospace\"><span style=\"font-weight: bold\"> Non-trainable params: </span><span style=\"color: #00af00; text-decoration-color: #00af00\">25,602</span> (100.01 KB)\n",
              "</pre>\n"
            ]
          },
          "metadata": {}
        }
      ],
      "source": [
        "generator = make_generative_model()\n",
        "generator.summary()"
      ]
    },
    {
      "cell_type": "markdown",
      "id": "3f57fc58",
      "metadata": {
        "id": "3f57fc58"
      },
      "source": [
        "- 아직 훈련되지 않은 generator가 이미지 생성"
      ]
    },
    {
      "cell_type": "code",
      "execution_count": 15,
      "id": "219dc26b",
      "metadata": {
        "colab": {
          "base_uri": "https://localhost:8080/"
        },
        "id": "219dc26b",
        "outputId": "b1500b3b-5b39-4e55-98ab-f042eec88d7d"
      },
      "outputs": [
        {
          "output_type": "execute_result",
          "data": {
            "text/plain": [
              "array([[[-1.48918334e-04, -5.34189341e-04,  4.13157791e-03,\n",
              "          2.27133185e-03, -5.38536930e-04, -2.01853435e-03,\n",
              "          6.86334819e-03,  1.68961531e-04, -2.38098949e-03,\n",
              "          5.40006091e-04,  4.83009173e-03, -2.49176775e-03,\n",
              "         -2.74202204e-04,  4.79703257e-03, -1.16090605e-03,\n",
              "          6.39257953e-04,  1.92087353e-03, -2.42865924e-03,\n",
              "          4.59660543e-04, -1.75535667e-03,  4.23346320e-03,\n",
              "         -9.11947282e-04,  6.94282399e-03,  4.51485300e-03,\n",
              "          2.44789012e-03,  4.47133789e-04,  1.22232494e-04,\n",
              "          5.23967156e-03],\n",
              "        [ 4.63637803e-03,  2.27210578e-03, -6.54952368e-04,\n",
              "          4.94826585e-03,  4.47135884e-04, -5.48676401e-03,\n",
              "         -4.81213862e-03,  2.17025029e-03,  2.46256706e-03,\n",
              "         -1.52529555e-03, -2.28210725e-03, -3.57604562e-03,\n",
              "         -6.31125702e-04, -2.63901427e-03,  5.61904442e-03,\n",
              "         -2.67545489e-04,  2.97017465e-03, -7.19848671e-04,\n",
              "         -4.05376730e-03,  1.52941642e-03, -9.71800357e-04,\n",
              "          3.82634206e-03, -2.34027696e-03,  1.30706150e-02,\n",
              "         -9.50132962e-04, -9.79814678e-04,  4.24114289e-03,\n",
              "          4.99701174e-03],\n",
              "        [ 8.66077188e-03, -3.53988539e-03, -2.09582201e-03,\n",
              "         -8.36086343e-04, -9.03637090e-04,  1.22400513e-02,\n",
              "         -1.94917503e-03,  3.21931904e-03,  1.30338101e-02,\n",
              "          1.56364944e-02, -1.54598398e-04, -1.66180683e-03,\n",
              "          1.24867195e-02,  9.72634589e-04, -3.50805465e-04,\n",
              "          7.95195531e-03, -3.90207046e-03, -1.43669895e-03,\n",
              "         -1.07758655e-03,  5.71790896e-03,  3.23378039e-03,\n",
              "          8.04479793e-03,  6.58292184e-03,  7.15409312e-03,\n",
              "          6.15431461e-04, -3.40398215e-03, -1.51123793e-03,\n",
              "          6.33392017e-03],\n",
              "        [ 1.99531569e-05, -2.21226062e-03, -1.84465398e-03,\n",
              "          4.59023891e-03, -2.64378055e-03,  4.69007622e-03,\n",
              "         -3.29169852e-04,  2.87495065e-03, -2.89092353e-03,\n",
              "          1.91349834e-02,  9.60679725e-03,  8.54881294e-03,\n",
              "         -4.36353451e-03, -1.49782258e-03, -2.89608521e-04,\n",
              "         -2.87855021e-03, -3.69213871e-03,  3.73034808e-03,\n",
              "         -1.31254701e-03,  8.60927533e-03,  1.64360064e-03,\n",
              "          1.32902507e-02,  3.24118999e-03, -1.74180302e-03,\n",
              "         -8.46937113e-03,  1.49262901e-02,  7.17964675e-03,\n",
              "         -1.30132448e-05],\n",
              "        [ 3.82916816e-03, -2.43443064e-03, -4.46716836e-03,\n",
              "          4.91171726e-04, -2.57062004e-03, -7.20167067e-04,\n",
              "         -6.47078676e-04,  4.91220225e-03, -4.65777889e-03,\n",
              "         -3.64422775e-03,  1.61486992e-03,  3.10221012e-03,\n",
              "         -7.47736124e-03, -1.28140463e-03, -3.45686381e-03,\n",
              "         -1.96342519e-03, -5.65955509e-03, -3.47399106e-03,\n",
              "         -2.38297827e-04, -3.72912618e-03, -1.43233174e-03,\n",
              "          3.02876724e-04,  1.28073739e-02,  1.56509709e-02,\n",
              "          3.40695400e-03, -5.68965962e-03, -2.96026381e-04,\n",
              "         -2.07536551e-03],\n",
              "        [ 3.00556864e-03, -4.10439447e-03,  1.88282114e-02,\n",
              "          1.31287174e-02, -3.54026002e-03,  5.84692345e-04,\n",
              "         -6.52727904e-04,  5.45085873e-03, -1.55801914e-04,\n",
              "         -4.17279825e-03,  1.47222937e-03,  3.18112485e-02,\n",
              "          6.79283822e-03, -3.36443260e-03,  4.65112273e-03,\n",
              "          7.91145116e-03,  7.17076706e-03,  5.62694063e-03,\n",
              "          1.26802158e-02,  5.28365187e-03, -5.87271154e-03,\n",
              "         -4.09736810e-03,  5.84410224e-03,  6.14752062e-03,\n",
              "         -5.07368147e-03,  1.53839989e-02,  1.19035994e-03,\n",
              "          3.53154005e-03],\n",
              "        [ 4.77704871e-03, -3.90500063e-03, -2.29498092e-03,\n",
              "          1.41495727e-02,  5.12806000e-03,  9.37048346e-03,\n",
              "         -5.52562717e-03, -7.68441882e-04,  4.90631489e-03,\n",
              "          1.08457906e-02, -7.40818447e-03, -3.05007841e-03,\n",
              "         -6.19701925e-04, -8.32242239e-03, -2.77547073e-03,\n",
              "         -4.51585092e-03, -7.65248726e-04,  7.97358528e-03,\n",
              "         -8.16738699e-03, -7.82387971e-04, -1.02923950e-03,\n",
              "          2.71576387e-03, -3.61128617e-03, -3.91598977e-03,\n",
              "          9.04744864e-03, -9.63936560e-04, -2.23851739e-03,\n",
              "         -2.27611023e-03],\n",
              "        [ 1.29301555e-03,  8.34792270e-04,  4.58169682e-03,\n",
              "          1.85061395e-02, -3.67251254e-04,  2.18782574e-02,\n",
              "          2.77957972e-03,  3.58350063e-03, -1.80775882e-04,\n",
              "          8.64044391e-03,  5.02207736e-03, -3.21962521e-03,\n",
              "         -1.34030171e-03, -4.35779709e-03,  6.49756845e-03,\n",
              "         -4.76458110e-03,  1.01102730e-02,  1.69653092e-02,\n",
              "          2.81321201e-02, -6.30987925e-04, -2.85516609e-03,\n",
              "         -2.56496161e-04,  5.53916814e-03,  7.28659937e-03,\n",
              "         -1.10432098e-03,  1.94483027e-02, -4.21061134e-03,\n",
              "          6.61290018e-03],\n",
              "        [ 2.97454331e-04, -1.56050047e-03,  7.56118586e-03,\n",
              "          2.09577801e-03, -3.28851235e-03, -4.12704516e-03,\n",
              "         -5.81061468e-03, -2.89094727e-03, -3.55346681e-04,\n",
              "          1.18166406e-03, -3.10697150e-03, -7.95990974e-03,\n",
              "         -2.01728521e-03, -7.19263265e-03, -6.92698406e-03,\n",
              "         -1.14361220e-03, -9.45482403e-04, -5.49361575e-03,\n",
              "         -2.37815036e-03,  1.37027884e-02,  8.47939029e-03,\n",
              "         -6.08254340e-04,  5.32930018e-03, -6.86745043e-04,\n",
              "         -3.92111670e-03, -2.05475185e-03, -8.55159760e-03,\n",
              "         -7.21771503e-03],\n",
              "        [-1.95316784e-03, -8.06978962e-04, -3.26791633e-04,\n",
              "          8.62171873e-03, -4.37466055e-03,  8.01027287e-04,\n",
              "         -4.66032745e-03,  1.80823344e-03, -4.12725145e-03,\n",
              "         -5.44970529e-03, -4.74067219e-03,  6.79395453e-05,\n",
              "         -4.47247224e-03, -1.07508106e-02,  1.21879531e-02,\n",
              "          1.25482287e-02, -6.10766606e-03, -8.47068895e-03,\n",
              "         -1.91931147e-03,  1.16881970e-02, -2.06165802e-04,\n",
              "         -5.99905429e-03, -9.97525291e-04, -3.27639026e-03,\n",
              "         -8.94939620e-03,  1.35479291e-04, -1.21374636e-04,\n",
              "          4.22837166e-03],\n",
              "        [ 2.62086396e-03, -2.55077751e-03, -5.39801456e-03,\n",
              "         -5.15350793e-03,  5.47462003e-03, -3.52021446e-03,\n",
              "         -2.72991695e-03, -1.77731598e-03,  1.16763487e-02,\n",
              "         -7.91919697e-03, -1.80838339e-03, -4.37305681e-03,\n",
              "         -2.31453171e-03, -6.26030425e-03, -6.27807854e-03,\n",
              "         -1.26533106e-03,  7.41933146e-03, -9.63822752e-03,\n",
              "         -1.50063192e-03,  1.46830862e-03, -4.63079894e-03,\n",
              "         -2.46884674e-03,  2.32197912e-04,  2.22471524e-02,\n",
              "         -4.10687877e-04, -2.49014841e-03, -6.57671411e-03,\n",
              "         -5.78779448e-03],\n",
              "        [-1.74833077e-03, -1.82886084e-03,  3.60929803e-03,\n",
              "          1.61956009e-02, -4.85266931e-03,  1.59109514e-02,\n",
              "          4.96505899e-03,  8.74579325e-03, -4.53747483e-03,\n",
              "          3.04849949e-02, -2.99130823e-03, -1.88470213e-03,\n",
              "         -3.76300444e-03,  1.81331281e-02,  3.42708379e-02,\n",
              "         -2.37973966e-03, -6.23051589e-03,  7.39506492e-03,\n",
              "          2.36315257e-03, -1.97430374e-03, -3.97315435e-03,\n",
              "          1.58291925e-02, -2.52068014e-04, -1.06415001e-03,\n",
              "          1.03706250e-03, -8.15142470e-04,  1.16428407e-02,\n",
              "         -3.42255167e-04],\n",
              "        [-6.92227855e-04, -5.44979051e-03, -6.36125333e-04,\n",
              "          1.04723526e-02, -5.76928491e-03, -4.04028548e-03,\n",
              "         -5.35323750e-03, -6.95108389e-03, -9.49948851e-04,\n",
              "         -4.26607672e-03, -9.96754877e-03,  5.52232517e-03,\n",
              "         -4.52369824e-03, -3.08062159e-03, -4.25103557e-04,\n",
              "          3.52421752e-03, -8.32590042e-04, -4.39310726e-03,\n",
              "         -6.82903687e-03, -3.07278801e-03, -7.21472455e-03,\n",
              "         -3.46193463e-03, -1.98462093e-03, -6.38813362e-04,\n",
              "         -2.93016853e-03, -2.71671289e-03, -1.66284363e-03,\n",
              "         -2.47910526e-03],\n",
              "        [-8.27937736e-04, -4.71570849e-04,  7.75675429e-03,\n",
              "          6.29472965e-03,  9.08790343e-03, -8.86178762e-03,\n",
              "         -5.21982182e-03,  8.30575766e-04,  7.60243647e-03,\n",
              "         -9.95255075e-03,  1.35686221e-02, -2.74052820e-03,\n",
              "          1.29685523e-02, -1.01226535e-04,  1.76882390e-02,\n",
              "          1.17556239e-02, -5.08689741e-03, -1.13542266e-02,\n",
              "          1.21129975e-02, -9.47873283e-04, -2.15893076e-03,\n",
              "         -2.91479682e-03,  1.01203769e-02, -1.51610351e-03,\n",
              "         -3.42749036e-03, -1.10816944e-03, -5.45254268e-04,\n",
              "          1.40056089e-02],\n",
              "        [ 2.94591673e-03, -5.66370366e-03, -3.15279671e-04,\n",
              "         -4.37322678e-03,  2.79289717e-03, -4.90618031e-03,\n",
              "         -2.03768513e-03, -5.36492467e-03,  1.65964141e-02,\n",
              "          4.27195989e-03, -6.13740738e-03, -4.31711972e-03,\n",
              "         -1.25633879e-03,  2.97316350e-02, -1.04545131e-02,\n",
              "         -8.93496152e-04, -6.45242492e-03, -1.28689420e-03,\n",
              "         -3.43885203e-03, -1.84155803e-03,  1.95340347e-02,\n",
              "          1.77063029e-02, -1.93865935e-03, -1.04513939e-03,\n",
              "         -6.39494183e-03,  8.70930310e-03, -4.69720317e-03,\n",
              "         -1.88507303e-03],\n",
              "        [-7.99620757e-04, -6.60484331e-03,  1.08854873e-02,\n",
              "          1.09151015e-02, -1.24641543e-03, -3.21659818e-03,\n",
              "          2.37639551e-03,  4.50756680e-03,  2.04433003e-04,\n",
              "          3.10277417e-02,  1.10724121e-02, -6.92748139e-03,\n",
              "         -5.49046975e-03,  1.82750728e-02, -1.39838399e-03,\n",
              "         -8.80991016e-03,  1.35463374e-02,  7.90111627e-03,\n",
              "          1.32751456e-02,  1.66001674e-02, -9.63747967e-04,\n",
              "         -2.30138400e-03,  4.19492461e-03, -8.82134074e-04,\n",
              "          4.70068399e-03,  1.84115507e-02, -3.19192698e-03,\n",
              "          1.92406066e-02],\n",
              "        [-1.92956801e-03, -5.36222849e-03, -3.51863587e-03,\n",
              "         -2.61394260e-03,  8.46300181e-03, -2.91496841e-03,\n",
              "         -3.67662311e-03, -1.46275666e-03, -2.34126812e-03,\n",
              "          1.29585562e-04,  1.84056722e-03, -5.18514821e-03,\n",
              "         -2.95334100e-03, -9.55786649e-03, -6.53125905e-03,\n",
              "         -2.36971048e-03, -7.76226213e-03,  4.61321371e-03,\n",
              "         -6.18374394e-03, -2.45794916e-04, -5.04179439e-03,\n",
              "         -9.27168410e-03, -4.72262036e-03, -7.76800374e-03,\n",
              "          1.09231751e-02, -2.37923907e-03,  4.47713817e-03,\n",
              "          1.33054028e-03],\n",
              "        [-1.52933039e-03, -3.16691888e-03,  1.67605851e-03,\n",
              "          2.28319466e-02, -2.30317935e-03, -3.69450985e-03,\n",
              "          1.22564873e-02,  6.32868987e-03, -3.53594041e-05,\n",
              "         -1.51930470e-03, -2.46116985e-03,  2.66456623e-02,\n",
              "         -6.79205498e-03,  6.44494407e-03,  4.05740663e-02,\n",
              "         -9.93636088e-04, -3.41173727e-03, -1.32558057e-02,\n",
              "         -6.52421964e-03,  8.64459854e-03, -1.22292992e-03,\n",
              "         -1.15065696e-02, -2.50910386e-03, -7.00906524e-03,\n",
              "         -2.14469226e-04, -2.99367984e-03, -2.30070809e-03,\n",
              "          3.26236780e-03],\n",
              "        [-1.44875597e-03, -5.01542864e-03, -4.92206309e-03,\n",
              "         -3.52328853e-03, -3.13850679e-03, -2.86921440e-03,\n",
              "         -6.80801459e-04,  1.55936619e-02,  1.00423479e-02,\n",
              "         -1.07581867e-02, -2.57238559e-03, -3.70470551e-03,\n",
              "         -9.79012437e-03, -6.65879110e-04, -3.49133997e-03,\n",
              "          1.01533700e-02, -2.91707838e-04, -3.51327378e-03,\n",
              "         -5.26487036e-03,  8.49810150e-03, -1.42383284e-03,\n",
              "         -6.44673733e-03, -1.62402669e-03, -1.99784082e-03,\n",
              "          5.27155027e-03,  5.69440471e-03, -3.07191629e-03,\n",
              "         -6.74145529e-04],\n",
              "        [-1.78600370e-03, -1.96347851e-03,  1.48739126e-02,\n",
              "          8.18646571e-04,  1.67348552e-02,  1.05983280e-02,\n",
              "          8.22350662e-03,  7.48772966e-03, -6.70675217e-05,\n",
              "         -2.14521028e-03,  1.58643853e-02, -6.48581830e-04,\n",
              "         -3.43665597e-03,  1.44759454e-02, -3.01025459e-03,\n",
              "         -7.70512456e-03, -5.57056349e-03,  2.72971801e-02,\n",
              "         -2.27005314e-03,  2.38339994e-02, -7.62954494e-03,\n",
              "          1.32755318e-03,  3.33893206e-03,  2.49244682e-02,\n",
              "         -4.00517043e-03,  2.14884039e-02,  1.43074356e-02,\n",
              "         -4.27323021e-03],\n",
              "        [-1.23066630e-03, -5.73091814e-03,  6.93420880e-03,\n",
              "         -1.18538924e-03, -3.25231790e-03, -7.82848627e-04,\n",
              "          5.34039596e-03, -5.47220604e-03, -2.23029777e-03,\n",
              "         -3.51604959e-03, -3.06733674e-03, -6.17754320e-03,\n",
              "         -5.89874433e-03, -8.63513071e-03, -5.81764942e-03,\n",
              "         -8.32160283e-03, -3.56876943e-03, -7.28666177e-03,\n",
              "         -6.01433264e-03,  3.69781395e-03, -2.22624606e-03,\n",
              "         -5.32751344e-03, -2.40981299e-03, -4.39608656e-03,\n",
              "         -2.65783397e-03,  1.11176423e-03, -4.12222091e-03,\n",
              "         -2.29230220e-03],\n",
              "        [ 7.75749702e-03, -2.09569419e-03,  2.54885927e-02,\n",
              "          1.94174089e-02,  6.49976893e-04, -2.56627542e-03,\n",
              "          2.01986730e-02, -4.63399431e-03, -1.37855113e-02,\n",
              "         -2.38222629e-03, -3.80720594e-03,  1.77212823e-02,\n",
              "         -4.41294443e-03, -1.41032692e-02, -2.53201043e-03,\n",
              "         -4.56162216e-03, -3.75532429e-03, -6.05043257e-03,\n",
              "         -3.08741443e-03, -7.20522972e-03,  1.93443298e-02,\n",
              "         -8.69998522e-03,  8.28361721e-04,  9.69387405e-03,\n",
              "         -1.76994444e-03, -2.81113875e-03, -1.05037143e-04,\n",
              "          1.44494819e-02],\n",
              "        [-4.90946004e-05, -6.20547915e-03, -4.02332563e-03,\n",
              "         -5.70275297e-04, -5.48879500e-04, -2.72503612e-03,\n",
              "         -3.40015092e-03, -4.30432614e-03, -4.12281690e-04,\n",
              "         -4.57718503e-03, -4.75977920e-03, -6.19251467e-03,\n",
              "         -2.30696634e-03, -7.35837640e-03,  2.17359723e-03,\n",
              "         -2.46613892e-03,  5.83585631e-03, -3.00409738e-03,\n",
              "         -6.46823319e-04, -2.51164165e-04, -9.99082928e-04,\n",
              "         -1.89112406e-03, -3.33897606e-03,  3.40985344e-03,\n",
              "          4.00689989e-03, -7.46866106e-04, -1.95320533e-03,\n",
              "         -1.76585768e-03],\n",
              "        [-1.19972462e-03, -2.70391675e-03,  2.29394482e-03,\n",
              "          7.10470835e-03, -1.92463910e-03,  7.25645199e-03,\n",
              "          1.41348550e-02,  9.44504142e-03, -7.87382200e-03,\n",
              "         -1.04399071e-04,  2.86573661e-03, -3.29797319e-03,\n",
              "         -4.83780773e-03,  2.53841970e-02,  2.13795472e-02,\n",
              "          1.65909901e-02, -9.71555710e-03,  9.46893077e-03,\n",
              "          1.79553609e-02, -1.53547898e-03, -6.95160171e-03,\n",
              "          2.85985805e-02,  2.04881076e-02,  1.23291207e-03,\n",
              "          1.25284272e-03,  2.37489901e-02,  3.99230607e-03,\n",
              "          1.29027069e-02],\n",
              "        [-2.84867152e-03, -3.83689138e-03, -1.50917959e-03,\n",
              "         -3.19348369e-03, -4.53819521e-04, -8.90604872e-03,\n",
              "         -5.79977827e-03,  3.66626051e-03, -5.01642295e-04,\n",
              "         -3.78431915e-03, -2.95845815e-03, -1.19889291e-05,\n",
              "         -3.96508869e-04, -7.22958054e-03, -5.73363062e-03,\n",
              "         -5.64646162e-03, -9.33883991e-03, -5.18660713e-03,\n",
              "         -3.30068544e-03, -4.96208854e-03, -1.69455935e-03,\n",
              "         -1.94984814e-03, -2.45877937e-03,  1.07488707e-02,\n",
              "         -8.67867260e-04, -1.08354994e-04, -9.08948015e-04,\n",
              "         -4.67157690e-03],\n",
              "        [-1.97446760e-04, -3.94752808e-03,  8.47349409e-03,\n",
              "          9.95236263e-03, -6.24593394e-03, -1.16417678e-02,\n",
              "         -1.22895814e-03,  1.40130436e-02,  6.48655742e-03,\n",
              "         -1.83448335e-03,  5.38807921e-03, -5.81692765e-03,\n",
              "         -2.42867856e-03, -5.65190706e-03,  5.37992269e-03,\n",
              "          9.59965307e-03,  1.34257060e-02, -4.28657001e-03,\n",
              "         -9.13712848e-03,  1.31768761e-02, -3.80471000e-03,\n",
              "         -8.62667046e-04,  1.27220144e-02, -2.06419639e-03,\n",
              "          1.12797385e-02, -6.71321410e-04, -8.85577028e-05,\n",
              "         -9.32054769e-04],\n",
              "        [-5.95063961e-04,  1.42647000e-03,  9.53244697e-03,\n",
              "          6.77532097e-03,  6.77219220e-03, -4.84882947e-03,\n",
              "         -1.40810874e-03, -2.98654707e-03, -2.42431671e-03,\n",
              "         -1.19026576e-03, -2.56880024e-03, -3.39537859e-03,\n",
              "         -1.29443780e-03, -1.02248148e-03,  2.54067383e-03,\n",
              "          1.45393808e-03, -2.55259173e-03, -2.19271262e-03,\n",
              "         -1.04293879e-03, -3.98284942e-03, -2.89417431e-03,\n",
              "         -6.65459223e-03,  3.92270973e-03, -7.57568609e-03,\n",
              "         -2.76282895e-03, -1.85303006e-03, -3.57780163e-03,\n",
              "         -2.25288467e-03],\n",
              "        [-7.28532963e-04,  6.89453073e-03, -7.18909549e-04,\n",
              "         -7.85388344e-04, -6.46492816e-04,  1.16040965e-03,\n",
              "         -2.43576709e-03,  3.19602061e-03, -5.82781108e-03,\n",
              "          1.32813295e-02, -6.61314873e-04, -7.38204864e-04,\n",
              "         -3.24171060e-03,  2.28473265e-02,  6.10726606e-03,\n",
              "          8.89992062e-03, -6.70668203e-04, -1.88621448e-03,\n",
              "          2.81986664e-03,  8.73455370e-04, -1.37696986e-03,\n",
              "          9.63152293e-03,  1.14666484e-03, -1.21273952e-04,\n",
              "          2.20256872e-04,  9.49068833e-03, -5.84123831e-04,\n",
              "          7.23860739e-03]]], dtype=float32)"
            ]
          },
          "metadata": {},
          "execution_count": 15
        }
      ],
      "source": [
        "img = generator(tf.random.normal([1,100]))\n",
        "img.numpy().reshape(1,28,28)"
      ]
    },
    {
      "cell_type": "code",
      "execution_count": 16,
      "id": "4d396aff",
      "metadata": {
        "colab": {
          "base_uri": "https://localhost:8080/",
          "height": 448
        },
        "id": "4d396aff",
        "outputId": "dbf38111-5a74-423a-a221-8608f441d15f"
      },
      "outputs": [
        {
          "output_type": "execute_result",
          "data": {
            "text/plain": [
              "<matplotlib.image.AxesImage at 0x7973c00dc340>"
            ]
          },
          "metadata": {},
          "execution_count": 16
        },
        {
          "output_type": "display_data",
          "data": {
            "text/plain": [
              "<Figure size 640x480 with 1 Axes>"
            ],
            "image/png": "[encoded data removed]"
          },
          "metadata": {}
        }
      ],
      "source": [
        "import matplotlib.pyplot as plt\n",
        "plt.imshow(img.numpy().reshape(28,28))"
      ]
    },
    {
      "cell_type": "markdown",
      "id": "8c7051cb",
      "metadata": {
        "id": "8c7051cb"
      },
      "source": [
        "### Discriminator\n",
        "- 번갈아가면서 학습시켜서 진짜인지 구분 가능하는 능력을 키움\n",
        "- CNN기반 분류기"
      ]
    },
    {
      "cell_type": "code",
      "execution_count": 17,
      "id": "4e4ca8f2",
      "metadata": {
        "id": "4e4ca8f2",
        "colab": {
          "base_uri": "https://localhost:8080/"
        },
        "outputId": "3af5343c-ce8a-49d0-cfab-e3cbdfa5388f"
      },
      "outputs": [
        {
          "output_type": "stream",
          "name": "stderr",
          "text": [
            "/usr/local/lib/python3.10/dist-packages/keras/src/layers/convolutional/base_conv.py:107: UserWarning: Do not pass an `input_shape`/`input_dim` argument to a layer. When using Sequential models, prefer using an `Input(shape)` object as the first layer in the model instead.\n",
            "  super().__init__(activity_regularizer=activity_regularizer, **kwargs)\n"
          ]
        }
      ],
      "source": [
        "discriminator= tf.keras.models.Sequential([\n",
        "       tf.keras.layers.Conv2D(64,(5,5),input_shape=(28,28,1)),\n",
        "       tf.keras.layers.LeakyReLU(),\n",
        "       tf.keras.layers.Dropout(0.3),\n",
        "\n",
        "       tf.keras.layers.Conv2D(128,(5,5)),\n",
        "       tf.keras.layers.LeakyReLU(),\n",
        "       tf.keras.layers.Dropout(0.3),\n",
        "\n",
        "       tf.keras.layers.Flatten(),\n",
        "       tf.keras.layers.Dense(1) #prediction\n",
        "       ])"
      ]
    },
    {
      "cell_type": "code",
      "execution_count": 18,
      "id": "f463301f",
      "metadata": {
        "colab": {
          "base_uri": "https://localhost:8080/",
          "height": 402
        },
        "id": "f463301f",
        "outputId": "f088b897-83e3-4841-f548-819ceba872bc"
      },
      "outputs": [
        {
          "output_type": "display_data",
          "data": {
            "text/plain": [
              "\u001b[1mModel: \"sequential_1\"\u001b[0m\n"
            ],
            "text/html": [
              "<pre style=\"white-space:pre;overflow-x:auto;line-height:normal;font-family:Menlo,'DejaVu Sans Mono',consolas,'Courier New',monospace\"><span style=\"font-weight: bold\">Model: \"sequential_1\"</span>\n",
              "</pre>\n"
            ]
          },
          "metadata": {}
        },
        {
          "output_type": "display_data",
          "data": {
            "text/plain": [
              "┏━━━━━━━━━━━━━━━━━━━━━━━━━━━━━━━━━━━━━━┳━━━━━━━━━━━━━━━━━━━━━━━━━━━━━┳━━━━━━━━━━━━━━━━━┓\n",
              "┃\u001b[1m \u001b[0m\u001b[1mLayer (type)                        \u001b[0m\u001b[1m \u001b[0m┃\u001b[1m \u001b[0m\u001b[1mOutput Shape               \u001b[0m\u001b[1m \u001b[0m┃\u001b[1m \u001b[0m\u001b[1m        Param #\u001b[0m\u001b[1m \u001b[0m┃\n",
              "┡━━━━━━━━━━━━━━━━━━━━━━━━━━━━━━━━━━━━━━╇━━━━━━━━━━━━━━━━━━━━━━━━━━━━━╇━━━━━━━━━━━━━━━━━┩\n",
              "│ conv2d (\u001b[38;5;33mConv2D\u001b[0m)                      │ (\u001b[38;5;45mNone\u001b[0m, \u001b[38;5;34m24\u001b[0m, \u001b[38;5;34m24\u001b[0m, \u001b[38;5;34m64\u001b[0m)          │           \u001b[38;5;34m1,664\u001b[0m │\n",
              "├──────────────────────────────────────┼─────────────────────────────┼─────────────────┤\n",
              "│ leaky_re_lu_9 (\u001b[38;5;33mLeakyReLU\u001b[0m)            │ (\u001b[38;5;45mNone\u001b[0m, \u001b[38;5;34m24\u001b[0m, \u001b[38;5;34m24\u001b[0m, \u001b[38;5;34m64\u001b[0m)          │               \u001b[38;5;34m0\u001b[0m │\n",
              "├──────────────────────────────────────┼─────────────────────────────┼─────────────────┤\n",
              "│ dropout (\u001b[38;5;33mDropout\u001b[0m)                    │ (\u001b[38;5;45mNone\u001b[0m, \u001b[38;5;34m24\u001b[0m, \u001b[38;5;34m24\u001b[0m, \u001b[38;5;34m64\u001b[0m)          │               \u001b[38;5;34m0\u001b[0m │\n",
              "├──────────────────────────────────────┼─────────────────────────────┼─────────────────┤\n",
              "│ conv2d_1 (\u001b[38;5;33mConv2D\u001b[0m)                    │ (\u001b[38;5;45mNone\u001b[0m, \u001b[38;5;34m20\u001b[0m, \u001b[38;5;34m20\u001b[0m, \u001b[38;5;34m128\u001b[0m)         │         \u001b[38;5;34m204,928\u001b[0m │\n",
              "├──────────────────────────────────────┼─────────────────────────────┼─────────────────┤\n",
              "│ leaky_re_lu_10 (\u001b[38;5;33mLeakyReLU\u001b[0m)           │ (\u001b[38;5;45mNone\u001b[0m, \u001b[38;5;34m20\u001b[0m, \u001b[38;5;34m20\u001b[0m, \u001b[38;5;34m128\u001b[0m)         │               \u001b[38;5;34m0\u001b[0m │\n",
              "├──────────────────────────────────────┼─────────────────────────────┼─────────────────┤\n",
              "│ dropout_1 (\u001b[38;5;33mDropout\u001b[0m)                  │ (\u001b[38;5;45mNone\u001b[0m, \u001b[38;5;34m20\u001b[0m, \u001b[38;5;34m20\u001b[0m, \u001b[38;5;34m128\u001b[0m)         │               \u001b[38;5;34m0\u001b[0m │\n",
              "├──────────────────────────────────────┼─────────────────────────────┼─────────────────┤\n",
              "│ flatten (\u001b[38;5;33mFlatten\u001b[0m)                    │ (\u001b[38;5;45mNone\u001b[0m, \u001b[38;5;34m51200\u001b[0m)               │               \u001b[38;5;34m0\u001b[0m │\n",
              "├──────────────────────────────────────┼─────────────────────────────┼─────────────────┤\n",
              "│ dense_1 (\u001b[38;5;33mDense\u001b[0m)                      │ (\u001b[38;5;45mNone\u001b[0m, \u001b[38;5;34m1\u001b[0m)                   │          \u001b[38;5;34m51,201\u001b[0m │\n",
              "└──────────────────────────────────────┴─────────────────────────────┴─────────────────┘\n"
            ],
            "text/html": [
              "<pre style=\"white-space:pre;overflow-x:auto;line-height:normal;font-family:Menlo,'DejaVu Sans Mono',consolas,'Courier New',monospace\">┏━━━━━━━━━━━━━━━━━━━━━━━━━━━━━━━━━━━━━━┳━━━━━━━━━━━━━━━━━━━━━━━━━━━━━┳━━━━━━━━━━━━━━━━━┓\n",
              "┃<span style=\"font-weight: bold\"> Layer (type)                         </span>┃<span style=\"font-weight: bold\"> Output Shape                </span>┃<span style=\"font-weight: bold\">         Param # </span>┃\n",
              "┡━━━━━━━━━━━━━━━━━━━━━━━━━━━━━━━━━━━━━━╇━━━━━━━━━━━━━━━━━━━━━━━━━━━━━╇━━━━━━━━━━━━━━━━━┩\n",
              "│ conv2d (<span style=\"color: #0087ff; text-decoration-color: #0087ff\">Conv2D</span>)                      │ (<span style=\"color: #00d7ff; text-decoration-color: #00d7ff\">None</span>, <span style=\"color: #00af00; text-decoration-color: #00af00\">24</span>, <span style=\"color: #00af00; text-decoration-color: #00af00\">24</span>, <span style=\"color: #00af00; text-decoration-color: #00af00\">64</span>)          │           <span style=\"color: #00af00; text-decoration-color: #00af00\">1,664</span> │\n",
              "├──────────────────────────────────────┼─────────────────────────────┼─────────────────┤\n",
              "│ leaky_re_lu_9 (<span style=\"color: #0087ff; text-decoration-color: #0087ff\">LeakyReLU</span>)            │ (<span style=\"color: #00d7ff; text-decoration-color: #00d7ff\">None</span>, <span style=\"color: #00af00; text-decoration-color: #00af00\">24</span>, <span style=\"color: #00af00; text-decoration-color: #00af00\">24</span>, <span style=\"color: #00af00; text-decoration-color: #00af00\">64</span>)          │               <span style=\"color: #00af00; text-decoration-color: #00af00\">0</span> │\n",
              "├──────────────────────────────────────┼─────────────────────────────┼─────────────────┤\n",
              "│ dropout (<span style=\"color: #0087ff; text-decoration-color: #0087ff\">Dropout</span>)                    │ (<span style=\"color: #00d7ff; text-decoration-color: #00d7ff\">None</span>, <span style=\"color: #00af00; text-decoration-color: #00af00\">24</span>, <span style=\"color: #00af00; text-decoration-color: #00af00\">24</span>, <span style=\"color: #00af00; text-decoration-color: #00af00\">64</span>)          │               <span style=\"color: #00af00; text-decoration-color: #00af00\">0</span> │\n",
              "├──────────────────────────────────────┼─────────────────────────────┼─────────────────┤\n",
              "│ conv2d_1 (<span style=\"color: #0087ff; text-decoration-color: #0087ff\">Conv2D</span>)                    │ (<span style=\"color: #00d7ff; text-decoration-color: #00d7ff\">None</span>, <span style=\"color: #00af00; text-decoration-color: #00af00\">20</span>, <span style=\"color: #00af00; text-decoration-color: #00af00\">20</span>, <span style=\"color: #00af00; text-decoration-color: #00af00\">128</span>)         │         <span style=\"color: #00af00; text-decoration-color: #00af00\">204,928</span> │\n",
              "├──────────────────────────────────────┼─────────────────────────────┼─────────────────┤\n",
              "│ leaky_re_lu_10 (<span style=\"color: #0087ff; text-decoration-color: #0087ff\">LeakyReLU</span>)           │ (<span style=\"color: #00d7ff; text-decoration-color: #00d7ff\">None</span>, <span style=\"color: #00af00; text-decoration-color: #00af00\">20</span>, <span style=\"color: #00af00; text-decoration-color: #00af00\">20</span>, <span style=\"color: #00af00; text-decoration-color: #00af00\">128</span>)         │               <span style=\"color: #00af00; text-decoration-color: #00af00\">0</span> │\n",
              "├──────────────────────────────────────┼─────────────────────────────┼─────────────────┤\n",
              "│ dropout_1 (<span style=\"color: #0087ff; text-decoration-color: #0087ff\">Dropout</span>)                  │ (<span style=\"color: #00d7ff; text-decoration-color: #00d7ff\">None</span>, <span style=\"color: #00af00; text-decoration-color: #00af00\">20</span>, <span style=\"color: #00af00; text-decoration-color: #00af00\">20</span>, <span style=\"color: #00af00; text-decoration-color: #00af00\">128</span>)         │               <span style=\"color: #00af00; text-decoration-color: #00af00\">0</span> │\n",
              "├──────────────────────────────────────┼─────────────────────────────┼─────────────────┤\n",
              "│ flatten (<span style=\"color: #0087ff; text-decoration-color: #0087ff\">Flatten</span>)                    │ (<span style=\"color: #00d7ff; text-decoration-color: #00d7ff\">None</span>, <span style=\"color: #00af00; text-decoration-color: #00af00\">51200</span>)               │               <span style=\"color: #00af00; text-decoration-color: #00af00\">0</span> │\n",
              "├──────────────────────────────────────┼─────────────────────────────┼─────────────────┤\n",
              "│ dense_1 (<span style=\"color: #0087ff; text-decoration-color: #0087ff\">Dense</span>)                      │ (<span style=\"color: #00d7ff; text-decoration-color: #00d7ff\">None</span>, <span style=\"color: #00af00; text-decoration-color: #00af00\">1</span>)                   │          <span style=\"color: #00af00; text-decoration-color: #00af00\">51,201</span> │\n",
              "└──────────────────────────────────────┴─────────────────────────────┴─────────────────┘\n",
              "</pre>\n"
            ]
          },
          "metadata": {}
        },
        {
          "output_type": "display_data",
          "data": {
            "text/plain": [
              "\u001b[1m Total params: \u001b[0m\u001b[38;5;34m257,793\u001b[0m (1007.00 KB)\n"
            ],
            "text/html": [
              "<pre style=\"white-space:pre;overflow-x:auto;line-height:normal;font-family:Menlo,'DejaVu Sans Mono',consolas,'Courier New',monospace\"><span style=\"font-weight: bold\"> Total params: </span><span style=\"color: #00af00; text-decoration-color: #00af00\">257,793</span> (1007.00 KB)\n",
              "</pre>\n"
            ]
          },
          "metadata": {}
        },
        {
          "output_type": "display_data",
          "data": {
            "text/plain": [
              "\u001b[1m Trainable params: \u001b[0m\u001b[38;5;34m257,793\u001b[0m (1007.00 KB)\n"
            ],
            "text/html": [
              "<pre style=\"white-space:pre;overflow-x:auto;line-height:normal;font-family:Menlo,'DejaVu Sans Mono',consolas,'Courier New',monospace\"><span style=\"font-weight: bold\"> Trainable params: </span><span style=\"color: #00af00; text-decoration-color: #00af00\">257,793</span> (1007.00 KB)\n",
              "</pre>\n"
            ]
          },
          "metadata": {}
        },
        {
          "output_type": "display_data",
          "data": {
            "text/plain": [
              "\u001b[1m Non-trainable params: \u001b[0m\u001b[38;5;34m0\u001b[0m (0.00 B)\n"
            ],
            "text/html": [
              "<pre style=\"white-space:pre;overflow-x:auto;line-height:normal;font-family:Menlo,'DejaVu Sans Mono',consolas,'Courier New',monospace\"><span style=\"font-weight: bold\"> Non-trainable params: </span><span style=\"color: #00af00; text-decoration-color: #00af00\">0</span> (0.00 B)\n",
              "</pre>\n"
            ]
          },
          "metadata": {}
        }
      ],
      "source": [
        "discriminator.summary()"
      ]
    },
    {
      "cell_type": "markdown",
      "id": "2d654300",
      "metadata": {
        "id": "2d654300"
      },
      "source": [
        "훈련되지않은 discriminator 사용하여 판별\n",
        "- 음수 :가짜\n",
        "- 양수 :진짜"
      ]
    },
    {
      "cell_type": "code",
      "execution_count": 19,
      "id": "53b16226",
      "metadata": {
        "colab": {
          "base_uri": "https://localhost:8080/"
        },
        "id": "53b16226",
        "outputId": "14b3c43d-e6c5-4219-d65d-1bb60fff2118"
      },
      "outputs": [
        {
          "output_type": "execute_result",
          "data": {
            "text/plain": [
              "<tf.Tensor: shape=(1, 1), dtype=float32, numpy=array([[-0.00080858]], dtype=float32)>"
            ]
          },
          "metadata": {},
          "execution_count": 19
        }
      ],
      "source": [
        "discriminator(img)   #아직 학습 안해서 생성자의 이미지를 판단 능력 없음"
      ]
    },
    {
      "cell_type": "code",
      "execution_count": 20,
      "id": "39feb5da",
      "metadata": {
        "id": "39feb5da"
      },
      "outputs": [],
      "source": [
        "loss=tf.keras.losses.BinaryCrossentropy(from_logits=True) # functional paradigm\n",
        "#문자열,함수,객체-재활용"
      ]
    },
    {
      "cell_type": "code",
      "execution_count": 21,
      "id": "379b36df",
      "metadata": {
        "id": "379b36df"
      },
      "outputs": [],
      "source": [
        "#loss 2개 만들어서 사용\n",
        "def discriminator_loss(real,fake):\n",
        "    real_loss= loss(tf.ones_like(real),real)\n",
        "    fake_loss= loss(tf.zeros_like(fake),fake)\n",
        "\n",
        "    total_loss=real_loss+fake_loss\n",
        "    return total_loss"
      ]
    },
    {
      "cell_type": "code",
      "execution_count": 22,
      "id": "47936855",
      "metadata": {
        "id": "47936855"
      },
      "outputs": [],
      "source": [
        "def generative_loss(fake):\n",
        "    return loss(tf.zeros_like(fake),fake)"
      ]
    },
    {
      "cell_type": "markdown",
      "id": "89727ad7",
      "metadata": {
        "id": "89727ad7"
      },
      "source": [
        "### optimizer\n",
        "- 감별자와 생성자는 따로 훈련되서 2개"
      ]
    },
    {
      "cell_type": "code",
      "execution_count": 23,
      "id": "6c141f98",
      "metadata": {
        "id": "6c141f98"
      },
      "outputs": [],
      "source": [
        "optimizer_g=tf.keras.optimizers.Adam( )\n",
        "optimizer_d=tf.keras.optimizers.Adam()"
      ]
    },
    {
      "cell_type": "markdown",
      "id": "fdc2575f",
      "metadata": {
        "id": "fdc2575f"
      },
      "source": [
        "- GradientTape: for 이용해서 epoch별 batch size만큼"
      ]
    },
    {
      "cell_type": "code",
      "execution_count": 24,
      "id": "cfe5965e",
      "metadata": {
        "id": "cfe5965e"
      },
      "outputs": [],
      "source": [
        "NOISE_DIM=100\n",
        "noise =tf.random.normal([BATCH_SIZE,NOISE_DIM])\n",
        "real=X_train"
      ]
    },
    {
      "cell_type": "code",
      "execution_count": 25,
      "id": "e331b84d",
      "metadata": {
        "id": "e331b84d"
      },
      "outputs": [],
      "source": [
        "# 동시에 두 모델 실행\n",
        "@tf.function\n",
        "def train_step(real):\n",
        "  with tf.GradientTape() as G, tf.GradientTape() as D: #알아서 순차적 실행\n",
        "    #training학습여부 조절\n",
        "    imgs=generator(noise,training=True)  #뱃치사이즈 만큼 이미지 만듦\n",
        "\n",
        "    real_img=discriminator(real, training=True)\n",
        "    fake_img=discriminator(imgs, training=True) #제너레이터가만든 이미지\n",
        "\n",
        "    gen_loss=generative_loss(fake_img)\n",
        "    dis_loss=discriminator_loss(real_img, fake_img)\n",
        "\n",
        "  gd=G.gradient(gen_loss,generator.trainable_variables)\n",
        "  dd=D.gradient(dis_loss,discriminator.trainable_variables)\n",
        "# print(gd)\n",
        "  optimizer_g.apply_gradients(zip(gd,generator.trainable_variables) )\n",
        "  optimizer_d.apply_gradients(zip(dd,discriminator.trainable_variables) )"
      ]
    },
    {
      "cell_type": "code",
      "execution_count": 26,
      "id": "600787f8",
      "metadata": {
        "id": "600787f8"
      },
      "outputs": [],
      "source": [
        "#  Colab에서 1분 소요\n",
        "for e in range(20): # 10 epochs\n",
        "  for i in train:\n",
        "    train_step(i)"
      ]
    },
    {
      "cell_type": "code",
      "execution_count": 27,
      "id": "7a867592",
      "metadata": {
        "colab": {
          "base_uri": "https://localhost:8080/",
          "height": 448
        },
        "id": "7a867592",
        "outputId": "2dbe60b4-388f-41c5-b0e6-4ebf5b0af903"
      },
      "outputs": [
        {
          "output_type": "execute_result",
          "data": {
            "text/plain": [
              "<matplotlib.image.AxesImage at 0x7973a9c4bd60>"
            ]
          },
          "metadata": {},
          "execution_count": 27
        },
        {
          "output_type": "display_data",
          "data": {
            "text/plain": [
              "<Figure size 640x480 with 1 Axes>"
            ],
            "image/png": "[encoded data removed]"
          },
          "metadata": {}
        }
      ],
      "source": [
        "img=generator(tf.random.normal([1,100]))\n",
        "plt.imshow(img.numpy().reshape(28,28))"
      ]
    },
    {
      "cell_type": "code",
      "execution_count": 28,
      "id": "91e67e2a",
      "metadata": {
        "colab": {
          "base_uri": "https://localhost:8080/"
        },
        "id": "91e67e2a",
        "outputId": "5cf91553-5303-4bfc-a2f9-2217067ba53e"
      },
      "outputs": [
        {
          "output_type": "execute_result",
          "data": {
            "text/plain": [
              "<tf.Tensor: shape=(1, 1), dtype=float32, numpy=array([[-56.16581]], dtype=float32)>"
            ]
          },
          "metadata": {},
          "execution_count": 28
        }
      ],
      "source": [
        "discriminator(img)"
      ]
    },
    {
      "cell_type": "code",
      "execution_count": 28,
      "id": "bb459d37",
      "metadata": {
        "id": "bb459d37"
      },
      "outputs": [],
      "source": []
    }
  ],
  "metadata": {
    "kernelspec": {
      "display_name": "Python 3",
      "name": "python3"
    },
    "language_info": {
      "codemirror_mode": {
        "name": "ipython",
        "version": 3
      },
      "file_extension": ".py",
      "mimetype": "text/x-python",
      "name": "python",
      "nbconvert_exporter": "python",
      "pygments_lexer": "ipython3",
      "version": "3.9.16"
    },
    "colab": {
      "provenance": [],
      "machine_shape": "hm",
      "gpuType": "A100"
    },
    "accelerator": "GPU"
  },
  "nbformat": 4,
  "nbformat_minor": 5
}