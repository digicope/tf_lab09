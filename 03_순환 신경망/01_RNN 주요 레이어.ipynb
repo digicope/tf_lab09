{
 "cells": [
  {
   "cell_type": "markdown",
   "id": "2d935e92-5b3a-4088-a1ae-b4e6e2fe64f4",
   "metadata": {},
   "source": [
    "## RNN(Recurrent Neural Network) : 순환 신경망\n",
    "#### 순서가 있는 시퀀스 데이터, time series data(시계열 데이터)를 입력하여 예측"
   ]
  },
  {
   "cell_type": "code",
   "execution_count": 1,
   "id": "89d96c6b-295c-46a7-95f3-2d1a238f00d9",
   "metadata": {},
   "outputs": [],
   "source": [
    "import tensorflow as tf\n",
    "import numpy as np"
   ]
  },
  {
   "cell_type": "markdown",
   "id": "c0921d84-c717-408f-9a85-36ae83b9fa79",
   "metadata": {},
   "source": [
    "![image](https://cloud.githubusercontent.com/assets/901975/23383681/9943a9fc-fd82-11e6-8121-bd187994e249.png)"
   ]
  },
  {
   "cell_type": "code",
   "execution_count": 2,
   "id": "ba7218c9-a5ea-43c3-9119-56cba07a9bad",
   "metadata": {},
   "outputs": [],
   "source": [
    "# One hot encoding for each char in 'hello'\n",
    "h = [1, 0, 0, 0]\n",
    "e = [0, 1, 0, 0]\n",
    "l = [0, 0, 1, 0]\n",
    "o = [0, 0, 0, 1]"
   ]
  },
  {
   "cell_type": "code",
   "execution_count": 18,
   "id": "7d3d64b7-d0b7-4ccf-a1f7-e9f707e9734a",
   "metadata": {},
   "outputs": [
    {
     "name": "stdout",
     "output_type": "stream",
     "text": [
      "(3, 5, 4)\n",
      "outputs: [[ 0.78535897  0.4023334 ]\n",
      " [ 0.57701486 -0.6959891 ]\n",
      " [ 0.6934552  -0.85219175]] (3, 2)\n",
      "states: [[ 0.78535897  0.4023334 ]\n",
      " [ 0.57701486 -0.6959891 ]\n",
      " [ 0.6934552  -0.85219175]] (3, 2)\n"
     ]
    }
   ],
   "source": [
    "# One cell RNN input_dim (4) -> output_dim (2). sequence: 5, batch 3\n",
    "# 3 batches 'hello', 'eolll', 'lleel'\n",
    "x_data = np.array([[h, e, l, l, o],\n",
    "                   [e, o, l, l, l],\n",
    "                   [l, l, e, e, l]], dtype=np.float32)\n",
    "# print(x_data)\n",
    "print(x_data.shape)   # (3, 5, 4) , (N,T,D)\n",
    "\n",
    "hidden_size = 2       # H\n",
    "\n",
    "rnn = tf.keras.layers.SimpleRNN(units=hidden_size,return_sequences=True,return_state=True)\n",
    "outputs,states = rnn(x_data)\n",
    "print('outputs:',outputs.numpy(),outputs.shape)  # (3,5,2), (N,T,H)\n",
    "print('states:',states.numpy(),states.shape)     # (3,2)  , (N,H)"
   ]
  },
  {
   "cell_type": "code",
   "execution_count": 16,
   "id": "53841090-5264-4374-a2ec-2f71566ba498",
   "metadata": {},
   "outputs": [
    {
     "name": "stdout",
     "output_type": "stream",
     "text": [
      "outputs: [[[ 0.61165094  0.17636812]\n",
      "  [-0.86593616 -0.58543855]\n",
      "  [ 0.7779666   0.48875654]\n",
      "  [ 0.49970412 -0.8779784 ]\n",
      "  [-0.6729606   0.65487725]]\n",
      "\n",
      " [[-0.7545223  -0.12761277]\n",
      "  [ 0.5485359   0.79101914]\n",
      "  [ 0.7268856  -0.89283   ]\n",
      "  [-0.33108586 -0.30171695]\n",
      "  [ 0.6837108  -0.03554717]]\n",
      "\n",
      " [[ 0.6610148  -0.44750997]\n",
      "  [ 0.00462564 -0.53430146]\n",
      "  [-0.87327814  0.2575156 ]\n",
      "  [-0.16303445  0.2633066 ]\n",
      "  [ 0.79778194 -0.5126735 ]]] (3, 5, 2)\n"
     ]
    }
   ],
   "source": [
    "rnn = tf.keras.layers.SimpleRNN(units=hidden_size,return_sequences=True,return_state=False)\n",
    "outputs = rnn(x_data)   # states값은 출력안됨\n",
    "print('outputs:',outputs.numpy(),outputs.shape)  # (3,5,2), (N,T,H)     "
   ]
  },
  {
   "cell_type": "code",
   "execution_count": 17,
   "id": "dfc59a27-303b-4e91-a29d-1eaaf31e079c",
   "metadata": {},
   "outputs": [
    {
     "name": "stdout",
     "output_type": "stream",
     "text": [
      "outputs: [[ 0.7636617  -0.66670007]\n",
      " [ 0.00088483 -0.3697712 ]\n",
      " [ 0.44657406 -0.5088584 ]] (3, 2)\n"
     ]
    }
   ],
   "source": [
    "rnn = tf.keras.layers.SimpleRNN(units=hidden_size,return_sequences=False)\n",
    "outputs = rnn(x_data)\n",
    "print('outputs:',outputs.numpy(),outputs.shape)  # (3,2), (N,,H)  ,  2차원으로 출력"
   ]
  },
  {
   "cell_type": "code",
   "execution_count": 19,
   "id": "ad864b83-1dc0-440f-9e24-2bc50819e247",
   "metadata": {},
   "outputs": [
    {
     "name": "stdout",
     "output_type": "stream",
     "text": [
      "outputs: [[-0.05294963  0.36261228]\n",
      " [ 0.80595165 -0.10563584]\n",
      " [ 0.9356241   0.4484834 ]] (3, 2)\n",
      "states: [[-0.05294963  0.36261228]\n",
      " [ 0.80595165 -0.10563584]\n",
      " [ 0.9356241   0.4484834 ]] (3, 2)\n"
     ]
    }
   ],
   "source": [
    "rnn = tf.keras.layers.SimpleRNN(units=hidden_size,return_sequences=False,return_state=True)\n",
    "outputs,states = rnn(x_data)\n",
    "print('outputs:',outputs.numpy(),outputs.shape)  # (3,2), (N,,H)\n",
    "print('states:',states.numpy(),states.shape)     # (3,2), (N,H)"
   ]
  },
  {
   "cell_type": "code",
   "execution_count": null,
   "id": "9b1d3df3-04d6-4a12-a5bf-e9cec585fb1f",
   "metadata": {},
   "outputs": [],
   "source": []
  }
 ],
 "metadata": {
  "kernelspec": {
   "display_name": "Python 3 (ipykernel)",
   "language": "python",
   "name": "python3"
  },
  "language_info": {
   "codemirror_mode": {
    "name": "ipython",
    "version": 3
   },
   "file_extension": ".py",
   "mimetype": "text/x-python",
   "name": "python",
   "nbconvert_exporter": "python",
   "pygments_lexer": "ipython3",
   "version": "3.10.12"
  }
 },
 "nbformat": 4,
 "nbformat_minor": 5
}
