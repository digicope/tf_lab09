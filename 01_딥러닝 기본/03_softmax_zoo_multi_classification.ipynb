{
 "cells": [
  {
   "cell_type": "markdown",
   "id": "a11f1a0f-08bc-414d-bbd6-656644776d4a",
   "metadata": {},
   "source": [
    "## 03_softmax_zoo_multi_classification\n",
    "\n",
    "#### multi-classification\n",
    "#### multi-nomial classification (다중 분류) : Y값의 범주가 3개 이상인 분류\n",
    "#### 활성화 함수(Activation function) 으로 softmax함수가 사용된다"
   ]
  },
  {
   "cell_type": "code",
   "execution_count": 1,
   "id": "9278930d-8f30-4569-9d26-0903029ab604",
   "metadata": {},
   "outputs": [
    {
     "data": {
      "text/plain": [
       "'2.17.0'"
      ]
     },
     "execution_count": 1,
     "metadata": {},
     "output_type": "execute_result"
    }
   ],
   "source": [
    "import tensorflow as tf\n",
    "import numpy as np\n",
    "tf.random.set_seed(5)\n",
    "tf.__version__"
   ]
  },
  {
   "cell_type": "code",
   "execution_count": 3,
   "id": "037e0032-925d-426d-a98b-65e6a6991e77",
   "metadata": {},
   "outputs": [
    {
     "name": "stdout",
     "output_type": "stream",
     "text": [
      "(70, 16) (70, 1)\n",
      "(31, 16) (31, 1)\n"
     ]
    }
   ],
   "source": [
    "# 데이터 불러오기\n",
    "xy = np.loadtxt('data-04-zoo.csv',delimiter=',',dtype=np.float32)\n",
    "xy.shape   # (101, 17)\n",
    "\n",
    "# 학습 데이터 분리 : 70% , 70개\n",
    "x_train = xy[:70,:-1]  # X\n",
    "y_train = xy[:70,[-1]] # Y\n",
    "print(x_train.shape,y_train.shape)  # (70, 16) (70, 1)\n",
    "\n",
    "# 검증 데이터 분리 : 30% , 31개\n",
    "x_test = xy[70:,:-1]  # X\n",
    "y_test = xy[70:,[-1]] # Y\n",
    "print(x_test.shape,y_test.shape)    # (31, 16) (31, 1)"
   ]
  },
  {
   "cell_type": "code",
   "execution_count": 19,
   "id": "e95f4619-0a7e-4d2e-b2c9-056920f131d3",
   "metadata": {},
   "outputs": [
    {
     "name": "stdout",
     "output_type": "stream",
     "text": [
      "(70, 1, 7)\n",
      "(70, 7)\n"
     ]
    }
   ],
   "source": [
    "# one-hot 인코딩\n",
    "# 0 : [1 0 0 0 0 0 0]\n",
    "# 1 : [0 1 0 0 0 0 0]\n",
    "# 2 : [0 0 1 0 0 0 0]\n",
    "# ..\n",
    "# 6 : [0 0 0 0 0 0 1]\n",
    "\n",
    "nb_classes = 7 # 분류(class) 갯수 : (0,1,2,3,4,5,6)\n",
    "Y_one_hot = tf.one_hot(y_train,nb_classes)         # (70,1,7) , 3차원 , Rank=3\n",
    "print(Y_one_hot.shape)\n",
    "Y_one_hot = tf.reshape(Y_one_hot,[-1,nb_classes])  # (70,7)  , 2차원 , Rank=2\n",
    "print(Y_one_hot.shape)"
   ]
  },
  {
   "cell_type": "code",
   "execution_count": 21,
   "id": "313c267e-d2d5-49ae-8b50-415c30ccca08",
   "metadata": {},
   "outputs": [],
   "source": [
    "# 변수 초기화 : weight, bias\n",
    "# (70, 16) * (16,7) = (70, 7)\n",
    "W = tf.Variable(tf.random.normal([16,nb_classes]),name='weight')\n",
    "b = tf.Variable(tf.random.normal([nb_classes]),name='bias')    "
   ]
  },
  {
   "cell_type": "code",
   "execution_count": 22,
   "id": "85fe12ca-ac09-4854-873f-d27522f3406b",
   "metadata": {},
   "outputs": [],
   "source": [
    "# 예측 함수(hypothesis) : H(X) = softmax(X*W + b)\n",
    "def logits(X):\n",
    "    return tf.matmul(X,W) + b\n",
    "    \n",
    "def hypothesis(X):\n",
    "    return tf.nn.softmax(logits(X))  "
   ]
  },
  {
   "cell_type": "code",
   "execution_count": 23,
   "id": "5237f7ee-e84f-4d82-a161-3645d9a23972",
   "metadata": {},
   "outputs": [],
   "source": [
    "# 비용 함수  : tf.nn.softmax_cross_entropy_with_logits() 함수 사용\n",
    "def cost_func():\n",
    "    cost_i = tf.nn.softmax_cross_entropy_with_logits(logits = logits(x_train),\n",
    "                                             labels = Y_one_hot)\n",
    "    cost =  tf.reduce_mean(cost_i)\n",
    "    return cost"
   ]
  },
  {
   "cell_type": "code",
   "execution_count": 26,
   "id": "fbc24c07-b276-4879-9d50-5bc0fe4766a2",
   "metadata": {},
   "outputs": [],
   "source": [
    "# 경사 하강법\n",
    "# learning_rate(학습율)을 0.01 로 설정하여 optimizer객체를 생성\n",
    "# optimizer = tf.compat.v1.train.GradientDescentOptimizer(learning_rate=0.01)\n",
    "optimizer = tf.compat.v1.train.AdamOptimizer(learning_rate=0.01)"
   ]
  },
  {
   "cell_type": "code",
   "execution_count": 27,
   "id": "4170779c-288a-46ac-95f3-0cf0c695cf6d",
   "metadata": {},
   "outputs": [
    {
     "name": "stdout",
     "output_type": "stream",
     "text": [
      "****** Start Learning!!\n",
      "0000 cost:[ 4.377194 ]\n",
      "1000 cost:[ 0.003679872 ]\n",
      "2000 cost:[ 0.0011352135 ]\n",
      "3000 cost:[ 0.00051771617 ]\n",
      "4000 cost:[ 0.00027261928 ]\n",
      "5000 cost:[ 0.00015366668 ]\n",
      "****** Learning Finished!!\n"
     ]
    }
   ],
   "source": [
    "# 학습 시작\n",
    "print('****** Start Learning!!')\n",
    "for step in range(5001):\n",
    "    # cost를 minimize 한다\n",
    "    optimizer.minimize(cost_func,var_list=[W,b])\n",
    "\n",
    "    if step % 1000 == 0:\n",
    "        print('%04d'%step,'cost:[',cost_func().numpy(),']')            \n",
    "\n",
    "print('****** Learning Finished!!')"
   ]
  },
  {
   "cell_type": "code",
   "execution_count": 29,
   "id": "78d86816-2535-4e93-8360-ccb021e77273",
   "metadata": {},
   "outputs": [],
   "source": [
    "# 회귀 계수, weight과 bias 출력\n",
    "# print('Weight:',W.numpy())\n",
    "# print('Bias:',b.numpy())"
   ]
  },
  {
   "cell_type": "code",
   "execution_count": 30,
   "id": "d56c8429-b352-415a-80ba-6ac4bcc67e29",
   "metadata": {},
   "outputs": [
    {
     "name": "stdout",
     "output_type": "stream",
     "text": [
      "(31, 1, 7)\n",
      "(31, 7)\n"
     ]
    }
   ],
   "source": [
    "# y_test값의 one-hot 인코딩\n",
    "Y_one_hot = tf.one_hot(y_test,nb_classes)         # (31,1,7) , 3차원 , Rank=3\n",
    "print(Y_one_hot.shape)\n",
    "Y_one_hot = tf.reshape(Y_one_hot,[-1,nb_classes])  # (31,7)  , 2차원 , Rank=2\n",
    "print(Y_one_hot.shape)"
   ]
  },
  {
   "cell_type": "code",
   "execution_count": 34,
   "id": "b5b79208-e1a5-4e47-a434-e5b9b7096745",
   "metadata": {},
   "outputs": [
    {
     "name": "stdout",
     "output_type": "stream",
     "text": [
      "Accuracy: 0.8064516\n"
     ]
    }
   ],
   "source": [
    "# 정확도 측정 : accuracy computation\n",
    "\n",
    "# tf.argmax() : 값이 가장 큰 요소의 인덱스 값을 반환\n",
    "def predict(X):\n",
    "    return tf.argmax(hypothesis(X),axis=1)\n",
    "    \n",
    "correct_predict = tf.equal(predict(x_test),tf.argmax(Y_one_hot,1))\n",
    "accuracy = tf.reduce_mean(tf.cast(correct_predict, dtype = tf.float32))\n",
    "print(\"Accuracy:\",accuracy.numpy()) # Accuracy: 0.8064516"
   ]
  },
  {
   "cell_type": "code",
   "execution_count": 38,
   "id": "56bec5df-27f1-4987-a7ce-39d39c1bd5f8",
   "metadata": {},
   "outputs": [
    {
     "name": "stdout",
     "output_type": "stream",
     "text": [
      "***** Predict\n",
      "[True] Prediction: 0 / Real Y: 0\n",
      "[True] Prediction: 1 / Real Y: 1\n",
      "[False] Prediction: 5 / Real Y: 6\n",
      "[True] Prediction: 3 / Real Y: 3\n",
      "[True] Prediction: 0 / Real Y: 0\n",
      "[True] Prediction: 0 / Real Y: 0\n",
      "[False] Prediction: 4 / Real Y: 2\n",
      "[True] Prediction: 6 / Real Y: 6\n",
      "[True] Prediction: 1 / Real Y: 1\n",
      "[True] Prediction: 1 / Real Y: 1\n",
      "[True] Prediction: 2 / Real Y: 2\n",
      "[False] Prediction: 2 / Real Y: 6\n",
      "[True] Prediction: 3 / Real Y: 3\n",
      "[True] Prediction: 1 / Real Y: 1\n",
      "[True] Prediction: 0 / Real Y: 0\n",
      "[True] Prediction: 6 / Real Y: 6\n",
      "[True] Prediction: 3 / Real Y: 3\n",
      "[True] Prediction: 1 / Real Y: 1\n",
      "[True] Prediction: 5 / Real Y: 5\n",
      "[True] Prediction: 4 / Real Y: 4\n",
      "[False] Prediction: 0 / Real Y: 2\n",
      "[False] Prediction: 4 / Real Y: 2\n",
      "[True] Prediction: 3 / Real Y: 3\n",
      "[True] Prediction: 0 / Real Y: 0\n",
      "[True] Prediction: 0 / Real Y: 0\n",
      "[True] Prediction: 1 / Real Y: 1\n",
      "[True] Prediction: 0 / Real Y: 0\n",
      "[True] Prediction: 5 / Real Y: 5\n",
      "[True] Prediction: 0 / Real Y: 0\n",
      "[False] Prediction: 2 / Real Y: 6\n",
      "[True] Prediction: 1 / Real Y: 1\n"
     ]
    }
   ],
   "source": [
    "#예측 \n",
    "print('***** Predict')\n",
    "pred = predict(x_test).numpy()\n",
    "for p,y in zip(pred, y_test.flatten()):\n",
    "    print(\"[{}] Prediction: {} / Real Y: {}\".format(p == int(y), p, int(y)))"
   ]
  },
  {
   "cell_type": "code",
   "execution_count": null,
   "id": "f7ed6611-b373-4a6d-bc12-2a95b09339a8",
   "metadata": {},
   "outputs": [],
   "source": []
  }
 ],
 "metadata": {
  "kernelspec": {
   "display_name": "Python 3 (ipykernel)",
   "language": "python",
   "name": "python3"
  },
  "language_info": {
   "codemirror_mode": {
    "name": "ipython",
    "version": 3
   },
   "file_extension": ".py",
   "mimetype": "text/x-python",
   "name": "python",
   "nbconvert_exporter": "python",
   "pygments_lexer": "ipython3",
   "version": "3.10.12"
  }
 },
 "nbformat": 4,
 "nbformat_minor": 5
}
